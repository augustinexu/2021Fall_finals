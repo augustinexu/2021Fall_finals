{
 "cells": [
  {
   "cell_type": "markdown",
   "metadata": {
    "id": "rtzKI7Z8KFJy"
   },
   "source": [
    "# COVID-19 Vaccination Data Analysis\n",
    "\n",
    "This project is about \"**COVID-19 World Vaccination Progress**\" Data Analysis with Python. Collected this Dataset from \"Kaggle\" which is the world's largest data science community with powerful tools and resources.\n",
    "\n",
    "![COVID-19 Vaccination image](https://assetsds.cdnedge.bluemix.net/sites/default/files/styles/very_big_1/public/feature/images/2021/01/11/covid-vaccine.jpg?itok=xMzn_yrM)\n",
    "\n",
    "This dataset contains 35310 rows and 15 columns which is really informaive to analysis. In this project,an attempt has been made to analyze various information of COVID-19 World Vaccination Progress such as country, total_Vaccinations, people_vaccinated,\tdaily_vaccinations total_vaccinations_per_hundred, people_vaccinated_per_hundred, people_fully_vaccinated_per_hundred,\t vaccines and many more.\n",
    "\n",
    "Library Used:\n",
    "\n",
    "* pandas\n",
    "* matplotlib\n",
    "* seaborn"
   ]
  },
  {
   "cell_type": "markdown",
   "metadata": {
    "id": "MMBgDe7hKFJ5"
   },
   "source": [
    "## Data Preparation and Cleaning\n",
    "\n",
    "\n"
   ]
  },
  {
   "cell_type": "markdown",
   "metadata": {
    "id": "Ytnk1yQLKFJ5"
   },
   "source": [
    "> - Load the dataset into a data frame using Pandas\n",
    "> - Explore the number of rows & columns, ranges of values etc.\n",
    "> - Handle missing, incorrect and invalid data"
   ]
  },
  {
   "cell_type": "code",
   "execution_count": 1,
   "metadata": {
    "execution": {
     "iopub.execute_input": "2021-10-26T05:18:02.882528Z",
     "iopub.status.busy": "2021-10-26T05:18:02.881917Z",
     "iopub.status.idle": "2021-10-26T05:18:02.895769Z",
     "shell.execute_reply": "2021-10-26T05:18:02.894094Z",
     "shell.execute_reply.started": "2021-10-26T05:18:02.882406Z"
    },
    "executionInfo": {
     "elapsed": 71,
     "status": "ok",
     "timestamp": 1625423463531,
     "user": {
      "displayName": "Anirban Saha",
      "photoUrl": "https://lh3.googleusercontent.com/a-/AOh14Gjyb92afz3EKbQ81YgXIXJ2xTvOb0I8CeT4KMiDTw=s64",
      "userId": "02348100453944470349"
     },
     "user_tz": -360
    },
    "id": "-zRlXo1NKFJ5"
   },
   "outputs": [],
   "source": [
    "import pandas as pd"
   ]
  },
  {
   "cell_type": "code",
   "execution_count": 2,
   "metadata": {
    "execution": {
     "iopub.execute_input": "2021-10-26T05:18:02.898397Z",
     "iopub.status.busy": "2021-10-26T05:18:02.897953Z",
     "iopub.status.idle": "2021-10-26T05:18:03.265396Z",
     "shell.execute_reply": "2021-10-26T05:18:03.264156Z",
     "shell.execute_reply.started": "2021-10-26T05:18:02.898352Z"
    },
    "executionInfo": {
     "elapsed": 70,
     "status": "ok",
     "timestamp": 1625423463532,
     "user": {
      "displayName": "Anirban Saha",
      "photoUrl": "https://lh3.googleusercontent.com/a-/AOh14Gjyb92afz3EKbQ81YgXIXJ2xTvOb0I8CeT4KMiDTw=s64",
      "userId": "02348100453944470349"
     },
     "user_tz": -360
    },
    "id": "75UhJLpIKFJ5"
   },
   "outputs": [],
   "source": [
    "vaccinations_df = pd.read_csv('data/country_vaccinations.csv')"
   ]
  },
  {
   "cell_type": "code",
   "execution_count": 3,
   "metadata": {
    "execution": {
     "iopub.execute_input": "2021-10-26T05:18:03.268625Z",
     "iopub.status.busy": "2021-10-26T05:18:03.267704Z",
     "iopub.status.idle": "2021-10-26T05:18:03.336441Z",
     "shell.execute_reply": "2021-10-26T05:18:03.335167Z",
     "shell.execute_reply.started": "2021-10-26T05:18:03.268559Z"
    },
    "executionInfo": {
     "elapsed": 69,
     "status": "ok",
     "timestamp": 1625423463533,
     "user": {
      "displayName": "Anirban Saha",
      "photoUrl": "https://lh3.googleusercontent.com/a-/AOh14Gjyb92afz3EKbQ81YgXIXJ2xTvOb0I8CeT4KMiDTw=s64",
      "userId": "02348100453944470349"
     },
     "user_tz": -360
    },
    "id": "MNRYARTUKFJ5",
    "outputId": "043334e7-78c5-49ba-ec81-7de4a05ad293"
   },
   "outputs": [
    {
     "data": {
      "text/html": [
       "<div>\n",
       "<style scoped>\n",
       "    .dataframe tbody tr th:only-of-type {\n",
       "        vertical-align: middle;\n",
       "    }\n",
       "\n",
       "    .dataframe tbody tr th {\n",
       "        vertical-align: top;\n",
       "    }\n",
       "\n",
       "    .dataframe thead th {\n",
       "        text-align: right;\n",
       "    }\n",
       "</style>\n",
       "<table border=\"1\" class=\"dataframe\">\n",
       "  <thead>\n",
       "    <tr style=\"text-align: right;\">\n",
       "      <th></th>\n",
       "      <th>country</th>\n",
       "      <th>iso_code</th>\n",
       "      <th>date</th>\n",
       "      <th>total_vaccinations</th>\n",
       "      <th>people_vaccinated</th>\n",
       "      <th>people_fully_vaccinated</th>\n",
       "      <th>daily_vaccinations_raw</th>\n",
       "      <th>daily_vaccinations</th>\n",
       "      <th>total_vaccinations_per_hundred</th>\n",
       "      <th>people_vaccinated_per_hundred</th>\n",
       "      <th>people_fully_vaccinated_per_hundred</th>\n",
       "      <th>daily_vaccinations_per_million</th>\n",
       "      <th>vaccines</th>\n",
       "      <th>source_name</th>\n",
       "      <th>source_website</th>\n",
       "    </tr>\n",
       "  </thead>\n",
       "  <tbody>\n",
       "    <tr>\n",
       "      <th>0</th>\n",
       "      <td>Afghanistan</td>\n",
       "      <td>AFG</td>\n",
       "      <td>2021-02-22</td>\n",
       "      <td>0.0</td>\n",
       "      <td>0.0</td>\n",
       "      <td>NaN</td>\n",
       "      <td>NaN</td>\n",
       "      <td>NaN</td>\n",
       "      <td>0.00</td>\n",
       "      <td>0.00</td>\n",
       "      <td>NaN</td>\n",
       "      <td>NaN</td>\n",
       "      <td>Johnson&amp;Johnson, Oxford/AstraZeneca, Pfizer/Bi...</td>\n",
       "      <td>World Health Organization</td>\n",
       "      <td>https://covid19.who.int/</td>\n",
       "    </tr>\n",
       "    <tr>\n",
       "      <th>1</th>\n",
       "      <td>Afghanistan</td>\n",
       "      <td>AFG</td>\n",
       "      <td>2021-02-23</td>\n",
       "      <td>NaN</td>\n",
       "      <td>NaN</td>\n",
       "      <td>NaN</td>\n",
       "      <td>NaN</td>\n",
       "      <td>1367.0</td>\n",
       "      <td>NaN</td>\n",
       "      <td>NaN</td>\n",
       "      <td>NaN</td>\n",
       "      <td>34.0</td>\n",
       "      <td>Johnson&amp;Johnson, Oxford/AstraZeneca, Pfizer/Bi...</td>\n",
       "      <td>World Health Organization</td>\n",
       "      <td>https://covid19.who.int/</td>\n",
       "    </tr>\n",
       "    <tr>\n",
       "      <th>2</th>\n",
       "      <td>Afghanistan</td>\n",
       "      <td>AFG</td>\n",
       "      <td>2021-02-24</td>\n",
       "      <td>NaN</td>\n",
       "      <td>NaN</td>\n",
       "      <td>NaN</td>\n",
       "      <td>NaN</td>\n",
       "      <td>1367.0</td>\n",
       "      <td>NaN</td>\n",
       "      <td>NaN</td>\n",
       "      <td>NaN</td>\n",
       "      <td>34.0</td>\n",
       "      <td>Johnson&amp;Johnson, Oxford/AstraZeneca, Pfizer/Bi...</td>\n",
       "      <td>World Health Organization</td>\n",
       "      <td>https://covid19.who.int/</td>\n",
       "    </tr>\n",
       "    <tr>\n",
       "      <th>3</th>\n",
       "      <td>Afghanistan</td>\n",
       "      <td>AFG</td>\n",
       "      <td>2021-02-25</td>\n",
       "      <td>NaN</td>\n",
       "      <td>NaN</td>\n",
       "      <td>NaN</td>\n",
       "      <td>NaN</td>\n",
       "      <td>1367.0</td>\n",
       "      <td>NaN</td>\n",
       "      <td>NaN</td>\n",
       "      <td>NaN</td>\n",
       "      <td>34.0</td>\n",
       "      <td>Johnson&amp;Johnson, Oxford/AstraZeneca, Pfizer/Bi...</td>\n",
       "      <td>World Health Organization</td>\n",
       "      <td>https://covid19.who.int/</td>\n",
       "    </tr>\n",
       "    <tr>\n",
       "      <th>4</th>\n",
       "      <td>Afghanistan</td>\n",
       "      <td>AFG</td>\n",
       "      <td>2021-02-26</td>\n",
       "      <td>NaN</td>\n",
       "      <td>NaN</td>\n",
       "      <td>NaN</td>\n",
       "      <td>NaN</td>\n",
       "      <td>1367.0</td>\n",
       "      <td>NaN</td>\n",
       "      <td>NaN</td>\n",
       "      <td>NaN</td>\n",
       "      <td>34.0</td>\n",
       "      <td>Johnson&amp;Johnson, Oxford/AstraZeneca, Pfizer/Bi...</td>\n",
       "      <td>World Health Organization</td>\n",
       "      <td>https://covid19.who.int/</td>\n",
       "    </tr>\n",
       "    <tr>\n",
       "      <th>...</th>\n",
       "      <td>...</td>\n",
       "      <td>...</td>\n",
       "      <td>...</td>\n",
       "      <td>...</td>\n",
       "      <td>...</td>\n",
       "      <td>...</td>\n",
       "      <td>...</td>\n",
       "      <td>...</td>\n",
       "      <td>...</td>\n",
       "      <td>...</td>\n",
       "      <td>...</td>\n",
       "      <td>...</td>\n",
       "      <td>...</td>\n",
       "      <td>...</td>\n",
       "      <td>...</td>\n",
       "    </tr>\n",
       "    <tr>\n",
       "      <th>56636</th>\n",
       "      <td>Zimbabwe</td>\n",
       "      <td>ZWE</td>\n",
       "      <td>2021-11-05</td>\n",
       "      <td>5990358.0</td>\n",
       "      <td>3356421.0</td>\n",
       "      <td>2633937.0</td>\n",
       "      <td>14598.0</td>\n",
       "      <td>14097.0</td>\n",
       "      <td>39.69</td>\n",
       "      <td>22.24</td>\n",
       "      <td>17.45</td>\n",
       "      <td>934.0</td>\n",
       "      <td>Oxford/AstraZeneca, Sinopharm/Beijing, Sinovac...</td>\n",
       "      <td>Ministry of Health</td>\n",
       "      <td>https://www.arcgis.com/home/webmap/viewer.html...</td>\n",
       "    </tr>\n",
       "    <tr>\n",
       "      <th>56637</th>\n",
       "      <td>Zimbabwe</td>\n",
       "      <td>ZWE</td>\n",
       "      <td>2021-11-06</td>\n",
       "      <td>6007025.0</td>\n",
       "      <td>3364633.0</td>\n",
       "      <td>2642392.0</td>\n",
       "      <td>16667.0</td>\n",
       "      <td>14805.0</td>\n",
       "      <td>39.80</td>\n",
       "      <td>22.29</td>\n",
       "      <td>17.51</td>\n",
       "      <td>981.0</td>\n",
       "      <td>Oxford/AstraZeneca, Sinopharm/Beijing, Sinovac...</td>\n",
       "      <td>Ministry of Health</td>\n",
       "      <td>https://www.arcgis.com/home/webmap/viewer.html...</td>\n",
       "    </tr>\n",
       "    <tr>\n",
       "      <th>56638</th>\n",
       "      <td>Zimbabwe</td>\n",
       "      <td>ZWE</td>\n",
       "      <td>2021-11-07</td>\n",
       "      <td>6021461.0</td>\n",
       "      <td>3372721.0</td>\n",
       "      <td>2648740.0</td>\n",
       "      <td>14436.0</td>\n",
       "      <td>15696.0</td>\n",
       "      <td>39.90</td>\n",
       "      <td>22.35</td>\n",
       "      <td>17.55</td>\n",
       "      <td>1040.0</td>\n",
       "      <td>Oxford/AstraZeneca, Sinopharm/Beijing, Sinovac...</td>\n",
       "      <td>Ministry of Health</td>\n",
       "      <td>https://www.arcgis.com/home/webmap/viewer.html...</td>\n",
       "    </tr>\n",
       "    <tr>\n",
       "      <th>56639</th>\n",
       "      <td>Zimbabwe</td>\n",
       "      <td>ZWE</td>\n",
       "      <td>2021-11-08</td>\n",
       "      <td>6034324.0</td>\n",
       "      <td>3380245.0</td>\n",
       "      <td>2654079.0</td>\n",
       "      <td>12863.0</td>\n",
       "      <td>15858.0</td>\n",
       "      <td>39.98</td>\n",
       "      <td>22.40</td>\n",
       "      <td>17.59</td>\n",
       "      <td>1051.0</td>\n",
       "      <td>Oxford/AstraZeneca, Sinopharm/Beijing, Sinovac...</td>\n",
       "      <td>Ministry of Health</td>\n",
       "      <td>https://www.arcgis.com/home/webmap/viewer.html...</td>\n",
       "    </tr>\n",
       "    <tr>\n",
       "      <th>56640</th>\n",
       "      <td>Zimbabwe</td>\n",
       "      <td>ZWE</td>\n",
       "      <td>2021-11-09</td>\n",
       "      <td>6056713.0</td>\n",
       "      <td>3394826.0</td>\n",
       "      <td>2661887.0</td>\n",
       "      <td>22389.0</td>\n",
       "      <td>16350.0</td>\n",
       "      <td>40.13</td>\n",
       "      <td>22.49</td>\n",
       "      <td>17.64</td>\n",
       "      <td>1083.0</td>\n",
       "      <td>Oxford/AstraZeneca, Sinopharm/Beijing, Sinovac...</td>\n",
       "      <td>Ministry of Health</td>\n",
       "      <td>https://www.arcgis.com/home/webmap/viewer.html...</td>\n",
       "    </tr>\n",
       "  </tbody>\n",
       "</table>\n",
       "<p>56641 rows × 15 columns</p>\n",
       "</div>"
      ],
      "text/plain": [
       "           country iso_code        date  total_vaccinations  \\\n",
       "0      Afghanistan      AFG  2021-02-22                 0.0   \n",
       "1      Afghanistan      AFG  2021-02-23                 NaN   \n",
       "2      Afghanistan      AFG  2021-02-24                 NaN   \n",
       "3      Afghanistan      AFG  2021-02-25                 NaN   \n",
       "4      Afghanistan      AFG  2021-02-26                 NaN   \n",
       "...            ...      ...         ...                 ...   \n",
       "56636     Zimbabwe      ZWE  2021-11-05           5990358.0   \n",
       "56637     Zimbabwe      ZWE  2021-11-06           6007025.0   \n",
       "56638     Zimbabwe      ZWE  2021-11-07           6021461.0   \n",
       "56639     Zimbabwe      ZWE  2021-11-08           6034324.0   \n",
       "56640     Zimbabwe      ZWE  2021-11-09           6056713.0   \n",
       "\n",
       "       people_vaccinated  people_fully_vaccinated  daily_vaccinations_raw  \\\n",
       "0                    0.0                      NaN                     NaN   \n",
       "1                    NaN                      NaN                     NaN   \n",
       "2                    NaN                      NaN                     NaN   \n",
       "3                    NaN                      NaN                     NaN   \n",
       "4                    NaN                      NaN                     NaN   \n",
       "...                  ...                      ...                     ...   \n",
       "56636          3356421.0                2633937.0                 14598.0   \n",
       "56637          3364633.0                2642392.0                 16667.0   \n",
       "56638          3372721.0                2648740.0                 14436.0   \n",
       "56639          3380245.0                2654079.0                 12863.0   \n",
       "56640          3394826.0                2661887.0                 22389.0   \n",
       "\n",
       "       daily_vaccinations  total_vaccinations_per_hundred  \\\n",
       "0                     NaN                            0.00   \n",
       "1                  1367.0                             NaN   \n",
       "2                  1367.0                             NaN   \n",
       "3                  1367.0                             NaN   \n",
       "4                  1367.0                             NaN   \n",
       "...                   ...                             ...   \n",
       "56636             14097.0                           39.69   \n",
       "56637             14805.0                           39.80   \n",
       "56638             15696.0                           39.90   \n",
       "56639             15858.0                           39.98   \n",
       "56640             16350.0                           40.13   \n",
       "\n",
       "       people_vaccinated_per_hundred  people_fully_vaccinated_per_hundred  \\\n",
       "0                               0.00                                  NaN   \n",
       "1                                NaN                                  NaN   \n",
       "2                                NaN                                  NaN   \n",
       "3                                NaN                                  NaN   \n",
       "4                                NaN                                  NaN   \n",
       "...                              ...                                  ...   \n",
       "56636                          22.24                                17.45   \n",
       "56637                          22.29                                17.51   \n",
       "56638                          22.35                                17.55   \n",
       "56639                          22.40                                17.59   \n",
       "56640                          22.49                                17.64   \n",
       "\n",
       "       daily_vaccinations_per_million  \\\n",
       "0                                 NaN   \n",
       "1                                34.0   \n",
       "2                                34.0   \n",
       "3                                34.0   \n",
       "4                                34.0   \n",
       "...                               ...   \n",
       "56636                           934.0   \n",
       "56637                           981.0   \n",
       "56638                          1040.0   \n",
       "56639                          1051.0   \n",
       "56640                          1083.0   \n",
       "\n",
       "                                                vaccines  \\\n",
       "0      Johnson&Johnson, Oxford/AstraZeneca, Pfizer/Bi...   \n",
       "1      Johnson&Johnson, Oxford/AstraZeneca, Pfizer/Bi...   \n",
       "2      Johnson&Johnson, Oxford/AstraZeneca, Pfizer/Bi...   \n",
       "3      Johnson&Johnson, Oxford/AstraZeneca, Pfizer/Bi...   \n",
       "4      Johnson&Johnson, Oxford/AstraZeneca, Pfizer/Bi...   \n",
       "...                                                  ...   \n",
       "56636  Oxford/AstraZeneca, Sinopharm/Beijing, Sinovac...   \n",
       "56637  Oxford/AstraZeneca, Sinopharm/Beijing, Sinovac...   \n",
       "56638  Oxford/AstraZeneca, Sinopharm/Beijing, Sinovac...   \n",
       "56639  Oxford/AstraZeneca, Sinopharm/Beijing, Sinovac...   \n",
       "56640  Oxford/AstraZeneca, Sinopharm/Beijing, Sinovac...   \n",
       "\n",
       "                     source_name  \\\n",
       "0      World Health Organization   \n",
       "1      World Health Organization   \n",
       "2      World Health Organization   \n",
       "3      World Health Organization   \n",
       "4      World Health Organization   \n",
       "...                          ...   \n",
       "56636         Ministry of Health   \n",
       "56637         Ministry of Health   \n",
       "56638         Ministry of Health   \n",
       "56639         Ministry of Health   \n",
       "56640         Ministry of Health   \n",
       "\n",
       "                                          source_website  \n",
       "0                               https://covid19.who.int/  \n",
       "1                               https://covid19.who.int/  \n",
       "2                               https://covid19.who.int/  \n",
       "3                               https://covid19.who.int/  \n",
       "4                               https://covid19.who.int/  \n",
       "...                                                  ...  \n",
       "56636  https://www.arcgis.com/home/webmap/viewer.html...  \n",
       "56637  https://www.arcgis.com/home/webmap/viewer.html...  \n",
       "56638  https://www.arcgis.com/home/webmap/viewer.html...  \n",
       "56639  https://www.arcgis.com/home/webmap/viewer.html...  \n",
       "56640  https://www.arcgis.com/home/webmap/viewer.html...  \n",
       "\n",
       "[56641 rows x 15 columns]"
      ]
     },
     "execution_count": 3,
     "metadata": {},
     "output_type": "execute_result"
    }
   ],
   "source": [
    "vaccinations_df"
   ]
  },
  {
   "cell_type": "code",
   "execution_count": 4,
   "metadata": {
    "execution": {
     "iopub.execute_input": "2021-10-26T05:18:03.339589Z",
     "iopub.status.busy": "2021-10-26T05:18:03.338792Z",
     "iopub.status.idle": "2021-10-26T05:18:03.406391Z",
     "shell.execute_reply": "2021-10-26T05:18:03.405394Z",
     "shell.execute_reply.started": "2021-10-26T05:18:03.339522Z"
    },
    "executionInfo": {
     "elapsed": 66,
     "status": "ok",
     "timestamp": 1625423463533,
     "user": {
      "displayName": "Anirban Saha",
      "photoUrl": "https://lh3.googleusercontent.com/a-/AOh14Gjyb92afz3EKbQ81YgXIXJ2xTvOb0I8CeT4KMiDTw=s64",
      "userId": "02348100453944470349"
     },
     "user_tz": -360
    },
    "id": "2pXW-gXcKFJ5",
    "outputId": "d3a1fbf0-a2ab-44d6-e244-eca15eec7bae"
   },
   "outputs": [
    {
     "name": "stdout",
     "output_type": "stream",
     "text": [
      "<class 'pandas.core.frame.DataFrame'>\n",
      "RangeIndex: 56641 entries, 0 to 56640\n",
      "Data columns (total 15 columns):\n",
      " #   Column                               Non-Null Count  Dtype  \n",
      "---  ------                               --------------  -----  \n",
      " 0   country                              56641 non-null  object \n",
      " 1   iso_code                             56641 non-null  object \n",
      " 2   date                                 56641 non-null  object \n",
      " 3   total_vaccinations                   30558 non-null  float64\n",
      " 4   people_vaccinated                    29021 non-null  float64\n",
      " 5   people_fully_vaccinated              26188 non-null  float64\n",
      " 6   daily_vaccinations_raw               25032 non-null  float64\n",
      " 7   daily_vaccinations                   56390 non-null  float64\n",
      " 8   total_vaccinations_per_hundred       30558 non-null  float64\n",
      " 9   people_vaccinated_per_hundred        29021 non-null  float64\n",
      " 10  people_fully_vaccinated_per_hundred  26188 non-null  float64\n",
      " 11  daily_vaccinations_per_million       56390 non-null  float64\n",
      " 12  vaccines                             56641 non-null  object \n",
      " 13  source_name                          56641 non-null  object \n",
      " 14  source_website                       56641 non-null  object \n",
      "dtypes: float64(9), object(6)\n",
      "memory usage: 6.5+ MB\n"
     ]
    }
   ],
   "source": [
    "vaccinations_df.info()"
   ]
  },
  {
   "cell_type": "code",
   "execution_count": 5,
   "metadata": {
    "execution": {
     "iopub.execute_input": "2021-10-26T05:18:03.408191Z",
     "iopub.status.busy": "2021-10-26T05:18:03.407759Z",
     "iopub.status.idle": "2021-10-26T05:18:03.414715Z",
     "shell.execute_reply": "2021-10-26T05:18:03.413801Z",
     "shell.execute_reply.started": "2021-10-26T05:18:03.40815Z"
    },
    "executionInfo": {
     "elapsed": 53,
     "status": "ok",
     "timestamp": 1625423463534,
     "user": {
      "displayName": "Anirban Saha",
      "photoUrl": "https://lh3.googleusercontent.com/a-/AOh14Gjyb92afz3EKbQ81YgXIXJ2xTvOb0I8CeT4KMiDTw=s64",
      "userId": "02348100453944470349"
     },
     "user_tz": -360
    },
    "id": "ANJKvi1HKFJ5",
    "outputId": "52b09713-4d29-4bfe-95f1-2e159879788a"
   },
   "outputs": [
    {
     "data": {
      "text/plain": [
       "Index(['country', 'iso_code', 'date', 'total_vaccinations',\n",
       "       'people_vaccinated', 'people_fully_vaccinated',\n",
       "       'daily_vaccinations_raw', 'daily_vaccinations',\n",
       "       'total_vaccinations_per_hundred', 'people_vaccinated_per_hundred',\n",
       "       'people_fully_vaccinated_per_hundred', 'daily_vaccinations_per_million',\n",
       "       'vaccines', 'source_name', 'source_website'],\n",
       "      dtype='object')"
      ]
     },
     "execution_count": 5,
     "metadata": {},
     "output_type": "execute_result"
    }
   ],
   "source": [
    "vaccinations_df.columns"
   ]
  },
  {
   "cell_type": "code",
   "execution_count": 6,
   "metadata": {
    "execution": {
     "iopub.execute_input": "2021-10-26T05:18:03.416975Z",
     "iopub.status.busy": "2021-10-26T05:18:03.416127Z",
     "iopub.status.idle": "2021-10-26T05:18:03.434396Z",
     "shell.execute_reply": "2021-10-26T05:18:03.432794Z",
     "shell.execute_reply.started": "2021-10-26T05:18:03.416917Z"
    },
    "executionInfo": {
     "elapsed": 42,
     "status": "ok",
     "timestamp": 1625423463535,
     "user": {
      "displayName": "Anirban Saha",
      "photoUrl": "https://lh3.googleusercontent.com/a-/AOh14Gjyb92afz3EKbQ81YgXIXJ2xTvOb0I8CeT4KMiDTw=s64",
      "userId": "02348100453944470349"
     },
     "user_tz": -360
    },
    "id": "CPFyjZyXKFJ6",
    "outputId": "8d230dc0-e561-4b3a-9aed-837a22b93c0c"
   },
   "outputs": [
    {
     "data": {
      "text/plain": [
       "(56641, 15)"
      ]
     },
     "execution_count": 6,
     "metadata": {},
     "output_type": "execute_result"
    }
   ],
   "source": [
    "vaccinations_df.shape"
   ]
  },
  {
   "cell_type": "code",
   "execution_count": 7,
   "metadata": {
    "execution": {
     "iopub.execute_input": "2021-10-26T05:18:03.438175Z",
     "iopub.status.busy": "2021-10-26T05:18:03.437653Z",
     "iopub.status.idle": "2021-10-26T05:18:03.539724Z",
     "shell.execute_reply": "2021-10-26T05:18:03.538618Z",
     "shell.execute_reply.started": "2021-10-26T05:18:03.438114Z"
    },
    "executionInfo": {
     "elapsed": 32,
     "status": "ok",
     "timestamp": 1625423463536,
     "user": {
      "displayName": "Anirban Saha",
      "photoUrl": "https://lh3.googleusercontent.com/a-/AOh14Gjyb92afz3EKbQ81YgXIXJ2xTvOb0I8CeT4KMiDTw=s64",
      "userId": "02348100453944470349"
     },
     "user_tz": -360
    },
    "id": "il6PBQMZKFJ6",
    "outputId": "8baa771b-ea69-422e-c6ff-edb25338c9bb"
   },
   "outputs": [
    {
     "data": {
      "text/html": [
       "<div>\n",
       "<style scoped>\n",
       "    .dataframe tbody tr th:only-of-type {\n",
       "        vertical-align: middle;\n",
       "    }\n",
       "\n",
       "    .dataframe tbody tr th {\n",
       "        vertical-align: top;\n",
       "    }\n",
       "\n",
       "    .dataframe thead th {\n",
       "        text-align: right;\n",
       "    }\n",
       "</style>\n",
       "<table border=\"1\" class=\"dataframe\">\n",
       "  <thead>\n",
       "    <tr style=\"text-align: right;\">\n",
       "      <th></th>\n",
       "      <th>total_vaccinations</th>\n",
       "      <th>people_vaccinated</th>\n",
       "      <th>people_fully_vaccinated</th>\n",
       "      <th>daily_vaccinations_raw</th>\n",
       "      <th>daily_vaccinations</th>\n",
       "      <th>total_vaccinations_per_hundred</th>\n",
       "      <th>people_vaccinated_per_hundred</th>\n",
       "      <th>people_fully_vaccinated_per_hundred</th>\n",
       "      <th>daily_vaccinations_per_million</th>\n",
       "    </tr>\n",
       "  </thead>\n",
       "  <tbody>\n",
       "    <tr>\n",
       "      <th>count</th>\n",
       "      <td>3.055800e+04</td>\n",
       "      <td>2.902100e+04</td>\n",
       "      <td>2.618800e+04</td>\n",
       "      <td>2.503200e+04</td>\n",
       "      <td>5.639000e+04</td>\n",
       "      <td>30558.000000</td>\n",
       "      <td>29021.000000</td>\n",
       "      <td>26188.000000</td>\n",
       "      <td>56390.000000</td>\n",
       "    </tr>\n",
       "    <tr>\n",
       "      <th>mean</th>\n",
       "      <td>2.680936e+07</td>\n",
       "      <td>1.117047e+07</td>\n",
       "      <td>7.582739e+06</td>\n",
       "      <td>2.561311e+05</td>\n",
       "      <td>1.304358e+05</td>\n",
       "      <td>53.745225</td>\n",
       "      <td>31.290404</td>\n",
       "      <td>24.644339</td>\n",
       "      <td>3487.383845</td>\n",
       "    </tr>\n",
       "    <tr>\n",
       "      <th>std</th>\n",
       "      <td>1.456621e+08</td>\n",
       "      <td>4.463657e+07</td>\n",
       "      <td>2.831494e+07</td>\n",
       "      <td>1.247050e+06</td>\n",
       "      <td>8.223533e+05</td>\n",
       "      <td>51.053599</td>\n",
       "      <td>26.481869</td>\n",
       "      <td>24.271303</td>\n",
       "      <td>4218.846758</td>\n",
       "    </tr>\n",
       "    <tr>\n",
       "      <th>min</th>\n",
       "      <td>0.000000e+00</td>\n",
       "      <td>0.000000e+00</td>\n",
       "      <td>1.000000e+00</td>\n",
       "      <td>0.000000e+00</td>\n",
       "      <td>0.000000e+00</td>\n",
       "      <td>0.000000</td>\n",
       "      <td>0.000000</td>\n",
       "      <td>0.000000</td>\n",
       "      <td>0.000000</td>\n",
       "    </tr>\n",
       "    <tr>\n",
       "      <th>25%</th>\n",
       "      <td>2.978305e+05</td>\n",
       "      <td>2.248030e+05</td>\n",
       "      <td>1.196940e+05</td>\n",
       "      <td>4.963750e+03</td>\n",
       "      <td>9.550000e+02</td>\n",
       "      <td>7.522500</td>\n",
       "      <td>5.870000</td>\n",
       "      <td>3.077500</td>\n",
       "      <td>607.000000</td>\n",
       "    </tr>\n",
       "    <tr>\n",
       "      <th>50%</th>\n",
       "      <td>2.000474e+06</td>\n",
       "      <td>1.282196e+06</td>\n",
       "      <td>8.849215e+05</td>\n",
       "      <td>2.476650e+04</td>\n",
       "      <td>7.088500e+03</td>\n",
       "      <td>37.390000</td>\n",
       "      <td>25.680000</td>\n",
       "      <td>15.775000</td>\n",
       "      <td>2232.000000</td>\n",
       "    </tr>\n",
       "    <tr>\n",
       "      <th>75%</th>\n",
       "      <td>9.984869e+06</td>\n",
       "      <td>5.670769e+06</td>\n",
       "      <td>4.503751e+06</td>\n",
       "      <td>1.176888e+05</td>\n",
       "      <td>4.196275e+04</td>\n",
       "      <td>92.907500</td>\n",
       "      <td>55.080000</td>\n",
       "      <td>43.472500</td>\n",
       "      <td>5097.750000</td>\n",
       "    </tr>\n",
       "    <tr>\n",
       "      <th>max</th>\n",
       "      <td>2.346831e+09</td>\n",
       "      <td>1.155058e+09</td>\n",
       "      <td>1.072454e+09</td>\n",
       "      <td>2.474100e+07</td>\n",
       "      <td>2.242429e+07</td>\n",
       "      <td>272.870000</td>\n",
       "      <td>120.440000</td>\n",
       "      <td>118.170000</td>\n",
       "      <td>117497.000000</td>\n",
       "    </tr>\n",
       "  </tbody>\n",
       "</table>\n",
       "</div>"
      ],
      "text/plain": [
       "       total_vaccinations  people_vaccinated  people_fully_vaccinated  \\\n",
       "count        3.055800e+04       2.902100e+04             2.618800e+04   \n",
       "mean         2.680936e+07       1.117047e+07             7.582739e+06   \n",
       "std          1.456621e+08       4.463657e+07             2.831494e+07   \n",
       "min          0.000000e+00       0.000000e+00             1.000000e+00   \n",
       "25%          2.978305e+05       2.248030e+05             1.196940e+05   \n",
       "50%          2.000474e+06       1.282196e+06             8.849215e+05   \n",
       "75%          9.984869e+06       5.670769e+06             4.503751e+06   \n",
       "max          2.346831e+09       1.155058e+09             1.072454e+09   \n",
       "\n",
       "       daily_vaccinations_raw  daily_vaccinations  \\\n",
       "count            2.503200e+04        5.639000e+04   \n",
       "mean             2.561311e+05        1.304358e+05   \n",
       "std              1.247050e+06        8.223533e+05   \n",
       "min              0.000000e+00        0.000000e+00   \n",
       "25%              4.963750e+03        9.550000e+02   \n",
       "50%              2.476650e+04        7.088500e+03   \n",
       "75%              1.176888e+05        4.196275e+04   \n",
       "max              2.474100e+07        2.242429e+07   \n",
       "\n",
       "       total_vaccinations_per_hundred  people_vaccinated_per_hundred  \\\n",
       "count                    30558.000000                   29021.000000   \n",
       "mean                        53.745225                      31.290404   \n",
       "std                         51.053599                      26.481869   \n",
       "min                          0.000000                       0.000000   \n",
       "25%                          7.522500                       5.870000   \n",
       "50%                         37.390000                      25.680000   \n",
       "75%                         92.907500                      55.080000   \n",
       "max                        272.870000                     120.440000   \n",
       "\n",
       "       people_fully_vaccinated_per_hundred  daily_vaccinations_per_million  \n",
       "count                         26188.000000                    56390.000000  \n",
       "mean                             24.644339                     3487.383845  \n",
       "std                              24.271303                     4218.846758  \n",
       "min                               0.000000                        0.000000  \n",
       "25%                               3.077500                      607.000000  \n",
       "50%                              15.775000                     2232.000000  \n",
       "75%                              43.472500                     5097.750000  \n",
       "max                             118.170000                   117497.000000  "
      ]
     },
     "execution_count": 7,
     "metadata": {},
     "output_type": "execute_result"
    }
   ],
   "source": [
    "vaccinations_df.describe()"
   ]
  },
  {
   "cell_type": "code",
   "execution_count": 8,
   "metadata": {
    "execution": {
     "iopub.execute_input": "2021-10-26T05:18:03.542316Z",
     "iopub.status.busy": "2021-10-26T05:18:03.54188Z",
     "iopub.status.idle": "2021-10-26T05:18:03.586629Z",
     "shell.execute_reply": "2021-10-26T05:18:03.585255Z",
     "shell.execute_reply.started": "2021-10-26T05:18:03.542272Z"
    },
    "executionInfo": {
     "elapsed": 386,
     "status": "ok",
     "timestamp": 1625423687561,
     "user": {
      "displayName": "Anirban Saha",
      "photoUrl": "https://lh3.googleusercontent.com/a-/AOh14Gjyb92afz3EKbQ81YgXIXJ2xTvOb0I8CeT4KMiDTw=s64",
      "userId": "02348100453944470349"
     },
     "user_tz": -360
    },
    "id": "GSo1sCWZzLxL",
    "outputId": "1457e641-59e7-4f3d-dc3e-57814aa4e1b4"
   },
   "outputs": [
    {
     "data": {
      "text/plain": [
       "country                                    0\n",
       "iso_code                                   0\n",
       "date                                       0\n",
       "total_vaccinations                     26083\n",
       "people_vaccinated                      27620\n",
       "people_fully_vaccinated                30453\n",
       "daily_vaccinations_raw                 31609\n",
       "daily_vaccinations                       251\n",
       "total_vaccinations_per_hundred         26083\n",
       "people_vaccinated_per_hundred          27620\n",
       "people_fully_vaccinated_per_hundred    30453\n",
       "daily_vaccinations_per_million           251\n",
       "vaccines                                   0\n",
       "source_name                                0\n",
       "source_website                             0\n",
       "dtype: int64"
      ]
     },
     "execution_count": 8,
     "metadata": {},
     "output_type": "execute_result"
    }
   ],
   "source": [
    "vaccinations_df.isnull().sum()"
   ]
  },
  {
   "cell_type": "code",
   "execution_count": 9,
   "metadata": {
    "execution": {
     "iopub.execute_input": "2021-10-26T05:18:03.589108Z",
     "iopub.status.busy": "2021-10-26T05:18:03.588713Z",
     "iopub.status.idle": "2021-10-26T05:18:03.79611Z",
     "shell.execute_reply": "2021-10-26T05:18:03.794695Z",
     "shell.execute_reply.started": "2021-10-26T05:18:03.589066Z"
    },
    "executionInfo": {
     "elapsed": 396,
     "status": "ok",
     "timestamp": 1625424286495,
     "user": {
      "displayName": "Anirban Saha",
      "photoUrl": "https://lh3.googleusercontent.com/a-/AOh14Gjyb92afz3EKbQ81YgXIXJ2xTvOb0I8CeT4KMiDTw=s64",
      "userId": "02348100453944470349"
     },
     "user_tz": -360
    },
    "id": "7-XA8tvzzZu0",
    "outputId": "fabd6d98-e93f-4f8e-859f-82961b9c06e4"
   },
   "outputs": [
    {
     "data": {
      "text/html": [
       "<div>\n",
       "<style scoped>\n",
       "    .dataframe tbody tr th:only-of-type {\n",
       "        vertical-align: middle;\n",
       "    }\n",
       "\n",
       "    .dataframe tbody tr th {\n",
       "        vertical-align: top;\n",
       "    }\n",
       "\n",
       "    .dataframe thead th {\n",
       "        text-align: right;\n",
       "    }\n",
       "</style>\n",
       "<table border=\"1\" class=\"dataframe\">\n",
       "  <thead>\n",
       "    <tr style=\"text-align: right;\">\n",
       "      <th></th>\n",
       "      <th>0</th>\n",
       "      <th>1</th>\n",
       "      <th>2</th>\n",
       "    </tr>\n",
       "  </thead>\n",
       "  <tbody>\n",
       "    <tr>\n",
       "      <th>0</th>\n",
       "      <td>2021</td>\n",
       "      <td>02</td>\n",
       "      <td>22</td>\n",
       "    </tr>\n",
       "    <tr>\n",
       "      <th>1</th>\n",
       "      <td>2021</td>\n",
       "      <td>02</td>\n",
       "      <td>23</td>\n",
       "    </tr>\n",
       "    <tr>\n",
       "      <th>2</th>\n",
       "      <td>2021</td>\n",
       "      <td>02</td>\n",
       "      <td>24</td>\n",
       "    </tr>\n",
       "    <tr>\n",
       "      <th>3</th>\n",
       "      <td>2021</td>\n",
       "      <td>02</td>\n",
       "      <td>25</td>\n",
       "    </tr>\n",
       "    <tr>\n",
       "      <th>4</th>\n",
       "      <td>2021</td>\n",
       "      <td>02</td>\n",
       "      <td>26</td>\n",
       "    </tr>\n",
       "    <tr>\n",
       "      <th>...</th>\n",
       "      <td>...</td>\n",
       "      <td>...</td>\n",
       "      <td>...</td>\n",
       "    </tr>\n",
       "    <tr>\n",
       "      <th>56636</th>\n",
       "      <td>2021</td>\n",
       "      <td>11</td>\n",
       "      <td>05</td>\n",
       "    </tr>\n",
       "    <tr>\n",
       "      <th>56637</th>\n",
       "      <td>2021</td>\n",
       "      <td>11</td>\n",
       "      <td>06</td>\n",
       "    </tr>\n",
       "    <tr>\n",
       "      <th>56638</th>\n",
       "      <td>2021</td>\n",
       "      <td>11</td>\n",
       "      <td>07</td>\n",
       "    </tr>\n",
       "    <tr>\n",
       "      <th>56639</th>\n",
       "      <td>2021</td>\n",
       "      <td>11</td>\n",
       "      <td>08</td>\n",
       "    </tr>\n",
       "    <tr>\n",
       "      <th>56640</th>\n",
       "      <td>2021</td>\n",
       "      <td>11</td>\n",
       "      <td>09</td>\n",
       "    </tr>\n",
       "  </tbody>\n",
       "</table>\n",
       "<p>56641 rows × 3 columns</p>\n",
       "</div>"
      ],
      "text/plain": [
       "          0   1   2\n",
       "0      2021  02  22\n",
       "1      2021  02  23\n",
       "2      2021  02  24\n",
       "3      2021  02  25\n",
       "4      2021  02  26\n",
       "...     ...  ..  ..\n",
       "56636  2021  11  05\n",
       "56637  2021  11  06\n",
       "56638  2021  11  07\n",
       "56639  2021  11  08\n",
       "56640  2021  11  09\n",
       "\n",
       "[56641 rows x 3 columns]"
      ]
     },
     "execution_count": 9,
     "metadata": {},
     "output_type": "execute_result"
    }
   ],
   "source": [
    "vaccinations_df.fillna(value=0, inplace=True)\n",
    "date = vaccinations_df.date.str.split('-', expand=True)\n",
    "date"
   ]
  },
  {
   "cell_type": "code",
   "execution_count": 10,
   "metadata": {
    "execution": {
     "iopub.execute_input": "2021-10-26T05:18:03.798684Z",
     "iopub.status.busy": "2021-10-26T05:18:03.798259Z",
     "iopub.status.idle": "2021-10-26T05:18:04.011798Z",
     "shell.execute_reply": "2021-10-26T05:18:04.010342Z",
     "shell.execute_reply.started": "2021-10-26T05:18:03.798647Z"
    },
    "executionInfo": {
     "elapsed": 401,
     "status": "ok",
     "timestamp": 1625424342237,
     "user": {
      "displayName": "Anirban Saha",
      "photoUrl": "https://lh3.googleusercontent.com/a-/AOh14Gjyb92afz3EKbQ81YgXIXJ2xTvOb0I8CeT4KMiDTw=s64",
      "userId": "02348100453944470349"
     },
     "user_tz": -360
    },
    "id": "5mIj6kbxz1Ix",
    "outputId": "4c41faf4-a0b8-4cbf-d822-2c63c0c0566d"
   },
   "outputs": [
    {
     "data": {
      "text/html": [
       "<div>\n",
       "<style scoped>\n",
       "    .dataframe tbody tr th:only-of-type {\n",
       "        vertical-align: middle;\n",
       "    }\n",
       "\n",
       "    .dataframe tbody tr th {\n",
       "        vertical-align: top;\n",
       "    }\n",
       "\n",
       "    .dataframe thead th {\n",
       "        text-align: right;\n",
       "    }\n",
       "</style>\n",
       "<table border=\"1\" class=\"dataframe\">\n",
       "  <thead>\n",
       "    <tr style=\"text-align: right;\">\n",
       "      <th></th>\n",
       "      <th>country</th>\n",
       "      <th>iso_code</th>\n",
       "      <th>date</th>\n",
       "      <th>total_vaccinations</th>\n",
       "      <th>people_vaccinated</th>\n",
       "      <th>people_fully_vaccinated</th>\n",
       "      <th>daily_vaccinations_raw</th>\n",
       "      <th>daily_vaccinations</th>\n",
       "      <th>total_vaccinations_per_hundred</th>\n",
       "      <th>people_vaccinated_per_hundred</th>\n",
       "      <th>people_fully_vaccinated_per_hundred</th>\n",
       "      <th>daily_vaccinations_per_million</th>\n",
       "      <th>vaccines</th>\n",
       "      <th>source_name</th>\n",
       "      <th>source_website</th>\n",
       "      <th>year</th>\n",
       "      <th>month</th>\n",
       "      <th>day</th>\n",
       "    </tr>\n",
       "  </thead>\n",
       "  <tbody>\n",
       "    <tr>\n",
       "      <th>0</th>\n",
       "      <td>Afghanistan</td>\n",
       "      <td>AFG</td>\n",
       "      <td>2021-02-22</td>\n",
       "      <td>0.0</td>\n",
       "      <td>0.0</td>\n",
       "      <td>0.0</td>\n",
       "      <td>0.0</td>\n",
       "      <td>0.0</td>\n",
       "      <td>0.0</td>\n",
       "      <td>0.0</td>\n",
       "      <td>0.0</td>\n",
       "      <td>0.0</td>\n",
       "      <td>Johnson&amp;Johnson, Oxford/AstraZeneca, Pfizer/Bi...</td>\n",
       "      <td>World Health Organization</td>\n",
       "      <td>https://covid19.who.int/</td>\n",
       "      <td>2021</td>\n",
       "      <td>2</td>\n",
       "      <td>22</td>\n",
       "    </tr>\n",
       "    <tr>\n",
       "      <th>1</th>\n",
       "      <td>Afghanistan</td>\n",
       "      <td>AFG</td>\n",
       "      <td>2021-02-23</td>\n",
       "      <td>0.0</td>\n",
       "      <td>0.0</td>\n",
       "      <td>0.0</td>\n",
       "      <td>0.0</td>\n",
       "      <td>1367.0</td>\n",
       "      <td>0.0</td>\n",
       "      <td>0.0</td>\n",
       "      <td>0.0</td>\n",
       "      <td>34.0</td>\n",
       "      <td>Johnson&amp;Johnson, Oxford/AstraZeneca, Pfizer/Bi...</td>\n",
       "      <td>World Health Organization</td>\n",
       "      <td>https://covid19.who.int/</td>\n",
       "      <td>2021</td>\n",
       "      <td>2</td>\n",
       "      <td>23</td>\n",
       "    </tr>\n",
       "    <tr>\n",
       "      <th>2</th>\n",
       "      <td>Afghanistan</td>\n",
       "      <td>AFG</td>\n",
       "      <td>2021-02-24</td>\n",
       "      <td>0.0</td>\n",
       "      <td>0.0</td>\n",
       "      <td>0.0</td>\n",
       "      <td>0.0</td>\n",
       "      <td>1367.0</td>\n",
       "      <td>0.0</td>\n",
       "      <td>0.0</td>\n",
       "      <td>0.0</td>\n",
       "      <td>34.0</td>\n",
       "      <td>Johnson&amp;Johnson, Oxford/AstraZeneca, Pfizer/Bi...</td>\n",
       "      <td>World Health Organization</td>\n",
       "      <td>https://covid19.who.int/</td>\n",
       "      <td>2021</td>\n",
       "      <td>2</td>\n",
       "      <td>24</td>\n",
       "    </tr>\n",
       "    <tr>\n",
       "      <th>3</th>\n",
       "      <td>Afghanistan</td>\n",
       "      <td>AFG</td>\n",
       "      <td>2021-02-25</td>\n",
       "      <td>0.0</td>\n",
       "      <td>0.0</td>\n",
       "      <td>0.0</td>\n",
       "      <td>0.0</td>\n",
       "      <td>1367.0</td>\n",
       "      <td>0.0</td>\n",
       "      <td>0.0</td>\n",
       "      <td>0.0</td>\n",
       "      <td>34.0</td>\n",
       "      <td>Johnson&amp;Johnson, Oxford/AstraZeneca, Pfizer/Bi...</td>\n",
       "      <td>World Health Organization</td>\n",
       "      <td>https://covid19.who.int/</td>\n",
       "      <td>2021</td>\n",
       "      <td>2</td>\n",
       "      <td>25</td>\n",
       "    </tr>\n",
       "    <tr>\n",
       "      <th>4</th>\n",
       "      <td>Afghanistan</td>\n",
       "      <td>AFG</td>\n",
       "      <td>2021-02-26</td>\n",
       "      <td>0.0</td>\n",
       "      <td>0.0</td>\n",
       "      <td>0.0</td>\n",
       "      <td>0.0</td>\n",
       "      <td>1367.0</td>\n",
       "      <td>0.0</td>\n",
       "      <td>0.0</td>\n",
       "      <td>0.0</td>\n",
       "      <td>34.0</td>\n",
       "      <td>Johnson&amp;Johnson, Oxford/AstraZeneca, Pfizer/Bi...</td>\n",
       "      <td>World Health Organization</td>\n",
       "      <td>https://covid19.who.int/</td>\n",
       "      <td>2021</td>\n",
       "      <td>2</td>\n",
       "      <td>26</td>\n",
       "    </tr>\n",
       "  </tbody>\n",
       "</table>\n",
       "</div>"
      ],
      "text/plain": [
       "       country iso_code       date  total_vaccinations  people_vaccinated  \\\n",
       "0  Afghanistan      AFG 2021-02-22                 0.0                0.0   \n",
       "1  Afghanistan      AFG 2021-02-23                 0.0                0.0   \n",
       "2  Afghanistan      AFG 2021-02-24                 0.0                0.0   \n",
       "3  Afghanistan      AFG 2021-02-25                 0.0                0.0   \n",
       "4  Afghanistan      AFG 2021-02-26                 0.0                0.0   \n",
       "\n",
       "   people_fully_vaccinated  daily_vaccinations_raw  daily_vaccinations  \\\n",
       "0                      0.0                     0.0                 0.0   \n",
       "1                      0.0                     0.0              1367.0   \n",
       "2                      0.0                     0.0              1367.0   \n",
       "3                      0.0                     0.0              1367.0   \n",
       "4                      0.0                     0.0              1367.0   \n",
       "\n",
       "   total_vaccinations_per_hundred  people_vaccinated_per_hundred  \\\n",
       "0                             0.0                            0.0   \n",
       "1                             0.0                            0.0   \n",
       "2                             0.0                            0.0   \n",
       "3                             0.0                            0.0   \n",
       "4                             0.0                            0.0   \n",
       "\n",
       "   people_fully_vaccinated_per_hundred  daily_vaccinations_per_million  \\\n",
       "0                                  0.0                             0.0   \n",
       "1                                  0.0                            34.0   \n",
       "2                                  0.0                            34.0   \n",
       "3                                  0.0                            34.0   \n",
       "4                                  0.0                            34.0   \n",
       "\n",
       "                                            vaccines  \\\n",
       "0  Johnson&Johnson, Oxford/AstraZeneca, Pfizer/Bi...   \n",
       "1  Johnson&Johnson, Oxford/AstraZeneca, Pfizer/Bi...   \n",
       "2  Johnson&Johnson, Oxford/AstraZeneca, Pfizer/Bi...   \n",
       "3  Johnson&Johnson, Oxford/AstraZeneca, Pfizer/Bi...   \n",
       "4  Johnson&Johnson, Oxford/AstraZeneca, Pfizer/Bi...   \n",
       "\n",
       "                 source_name            source_website  year  month  day  \n",
       "0  World Health Organization  https://covid19.who.int/  2021      2   22  \n",
       "1  World Health Organization  https://covid19.who.int/  2021      2   23  \n",
       "2  World Health Organization  https://covid19.who.int/  2021      2   24  \n",
       "3  World Health Organization  https://covid19.who.int/  2021      2   25  \n",
       "4  World Health Organization  https://covid19.who.int/  2021      2   26  "
      ]
     },
     "execution_count": 10,
     "metadata": {},
     "output_type": "execute_result"
    }
   ],
   "source": [
    "vaccinations_df['year'] = date[0]\n",
    "vaccinations_df['month'] = date[1]\n",
    "vaccinations_df['day'] = date[2]\n",
    "\n",
    "vaccinations_df.year = pd.to_numeric(vaccinations_df.year)\n",
    "vaccinations_df.month = pd.to_numeric(vaccinations_df.month)\n",
    "vaccinations_df.day = pd.to_numeric(vaccinations_df.day)\n",
    "\n",
    "vaccinations_df.date = pd.to_datetime(vaccinations_df.date)\n",
    "\n",
    "vaccinations_df.head()"
   ]
  },
  {
   "cell_type": "code",
   "execution_count": 11,
   "metadata": {
    "execution": {
     "iopub.execute_input": "2021-10-26T05:18:04.01428Z",
     "iopub.status.busy": "2021-10-26T05:18:04.013739Z",
     "iopub.status.idle": "2021-10-26T05:18:04.063935Z",
     "shell.execute_reply": "2021-10-26T05:18:04.062478Z",
     "shell.execute_reply.started": "2021-10-26T05:18:04.014221Z"
    },
    "executionInfo": {
     "elapsed": 383,
     "status": "ok",
     "timestamp": 1625424347671,
     "user": {
      "displayName": "Anirban Saha",
      "photoUrl": "https://lh3.googleusercontent.com/a-/AOh14Gjyb92afz3EKbQ81YgXIXJ2xTvOb0I8CeT4KMiDTw=s64",
      "userId": "02348100453944470349"
     },
     "user_tz": -360
    },
    "id": "mHEtqjmB1E0d",
    "outputId": "6fe9adbe-77a8-413f-8e27-a0cd533c25b5"
   },
   "outputs": [
    {
     "name": "stdout",
     "output_type": "stream",
     "text": [
      "<class 'pandas.core.frame.DataFrame'>\n",
      "RangeIndex: 56641 entries, 0 to 56640\n",
      "Data columns (total 18 columns):\n",
      " #   Column                               Non-Null Count  Dtype         \n",
      "---  ------                               --------------  -----         \n",
      " 0   country                              56641 non-null  object        \n",
      " 1   iso_code                             56641 non-null  object        \n",
      " 2   date                                 56641 non-null  datetime64[ns]\n",
      " 3   total_vaccinations                   56641 non-null  float64       \n",
      " 4   people_vaccinated                    56641 non-null  float64       \n",
      " 5   people_fully_vaccinated              56641 non-null  float64       \n",
      " 6   daily_vaccinations_raw               56641 non-null  float64       \n",
      " 7   daily_vaccinations                   56641 non-null  float64       \n",
      " 8   total_vaccinations_per_hundred       56641 non-null  float64       \n",
      " 9   people_vaccinated_per_hundred        56641 non-null  float64       \n",
      " 10  people_fully_vaccinated_per_hundred  56641 non-null  float64       \n",
      " 11  daily_vaccinations_per_million       56641 non-null  float64       \n",
      " 12  vaccines                             56641 non-null  object        \n",
      " 13  source_name                          56641 non-null  object        \n",
      " 14  source_website                       56641 non-null  object        \n",
      " 15  year                                 56641 non-null  int64         \n",
      " 16  month                                56641 non-null  int64         \n",
      " 17  day                                  56641 non-null  int64         \n",
      "dtypes: datetime64[ns](1), float64(9), int64(3), object(5)\n",
      "memory usage: 7.8+ MB\n"
     ]
    }
   ],
   "source": [
    "vaccinations_df.info()"
   ]
  },
  {
   "cell_type": "markdown",
   "metadata": {
    "id": "jq0mBB7KKFJ6"
   },
   "source": [
    "## Exploratory Analysis and Visualization\n",
    "\n",
    "\n"
   ]
  },
  {
   "cell_type": "markdown",
   "metadata": {
    "id": "ZCTdpKOOKFJ7"
   },
   "source": [
    "Let's begin by importing`matplotlib.pyplot` and `seaborn`."
   ]
  },
  {
   "cell_type": "code",
   "execution_count": 12,
   "metadata": {
    "execution": {
     "iopub.execute_input": "2021-10-26T05:18:04.066782Z",
     "iopub.status.busy": "2021-10-26T05:18:04.065938Z",
     "iopub.status.idle": "2021-10-26T05:18:05.359573Z",
     "shell.execute_reply": "2021-10-26T05:18:05.358154Z",
     "shell.execute_reply.started": "2021-10-26T05:18:04.066716Z"
    },
    "executionInfo": {
     "elapsed": 6,
     "status": "ok",
     "timestamp": 1625423465796,
     "user": {
      "displayName": "Anirban Saha",
      "photoUrl": "https://lh3.googleusercontent.com/a-/AOh14Gjyb92afz3EKbQ81YgXIXJ2xTvOb0I8CeT4KMiDTw=s64",
      "userId": "02348100453944470349"
     },
     "user_tz": -360
    },
    "id": "3jcILoXEKFJ7"
   },
   "outputs": [],
   "source": [
    "import seaborn as sns\n",
    "import matplotlib\n",
    "import matplotlib.pyplot as plt\n",
    "%matplotlib inline\n",
    "\n",
    "sns.set_style('darkgrid')\n",
    "matplotlib.rcParams['font.size'] = 14\n",
    "matplotlib.rcParams['figure.figsize'] = (9, 5)\n",
    "matplotlib.rcParams['figure.facecolor'] = '#00000000'"
   ]
  },
  {
   "cell_type": "markdown",
   "metadata": {
    "id": "7uBpYXN8KFJ7"
   },
   "source": [
    "Explore the mean, min, max"
   ]
  },
  {
   "cell_type": "code",
   "execution_count": 13,
   "metadata": {
    "execution": {
     "iopub.execute_input": "2021-10-26T05:18:05.362589Z",
     "iopub.status.busy": "2021-10-26T05:18:05.361965Z",
     "iopub.status.idle": "2021-10-26T05:18:20.758954Z",
     "shell.execute_reply": "2021-10-26T05:18:20.757582Z",
     "shell.execute_reply.started": "2021-10-26T05:18:05.362488Z"
    },
    "executionInfo": {
     "elapsed": 7269,
     "status": "ok",
     "timestamp": 1625424476052,
     "user": {
      "displayName": "Anirban Saha",
      "photoUrl": "https://lh3.googleusercontent.com/a-/AOh14Gjyb92afz3EKbQ81YgXIXJ2xTvOb0I8CeT4KMiDTw=s64",
      "userId": "02348100453944470349"
     },
     "user_tz": -360
    },
    "id": "oS3k_hlqKFJ7",
    "outputId": "483b9b74-7eb2-4287-a33e-d53a2671b506"
   },
   "outputs": [
    {
     "name": "stderr",
     "output_type": "stream",
     "text": [
      "<ipython-input-13-d101732c3b1b>:1: FutureWarning: DataFrame.mean and DataFrame.median with numeric_only=None will include datetime64 and datetime64tz columns in a future version.\n",
      "  vaccinations_df.mean()\n"
     ]
    },
    {
     "data": {
      "text/plain": [
       "total_vaccinations                     1.446373e+07\n",
       "people_vaccinated                      5.723386e+06\n",
       "people_fully_vaccinated                3.505884e+06\n",
       "daily_vaccinations_raw                 1.131949e+05\n",
       "daily_vaccinations                     1.298578e+05\n",
       "total_vaccinations_per_hundred         2.899572e+01\n",
       "people_vaccinated_per_hundred          1.603218e+01\n",
       "people_fully_vaccinated_per_hundred    1.139432e+01\n",
       "daily_vaccinations_per_million         3.471930e+03\n",
       "year                                   2.020994e+03\n",
       "month                                  6.330679e+00\n",
       "day                                    1.574232e+01\n",
       "dtype: float64"
      ]
     },
     "execution_count": 13,
     "metadata": {},
     "output_type": "execute_result"
    }
   ],
   "source": [
    "vaccinations_df.mean()"
   ]
  },
  {
   "cell_type": "code",
   "execution_count": 14,
   "metadata": {
    "execution": {
     "iopub.execute_input": "2021-10-26T05:18:20.761062Z",
     "iopub.status.busy": "2021-10-26T05:18:20.760694Z",
     "iopub.status.idle": "2021-10-26T05:18:20.816679Z",
     "shell.execute_reply": "2021-10-26T05:18:20.815468Z",
     "shell.execute_reply.started": "2021-10-26T05:18:20.761025Z"
    },
    "executionInfo": {
     "elapsed": 407,
     "status": "ok",
     "timestamp": 1625424480892,
     "user": {
      "displayName": "Anirban Saha",
      "photoUrl": "https://lh3.googleusercontent.com/a-/AOh14Gjyb92afz3EKbQ81YgXIXJ2xTvOb0I8CeT4KMiDTw=s64",
      "userId": "02348100453944470349"
     },
     "user_tz": -360
    },
    "id": "sKt-L3EnKFJ7",
    "outputId": "afff23a7-ae58-47dc-b39f-dee4a6cb852c"
   },
   "outputs": [
    {
     "data": {
      "text/plain": [
       "country                                                                      Afghanistan\n",
       "iso_code                                                                             ABW\n",
       "date                                                                 2020-12-01 00:00:00\n",
       "total_vaccinations                                                                   0.0\n",
       "people_vaccinated                                                                    0.0\n",
       "people_fully_vaccinated                                                              0.0\n",
       "daily_vaccinations_raw                                                               0.0\n",
       "daily_vaccinations                                                                   0.0\n",
       "total_vaccinations_per_hundred                                                       0.0\n",
       "people_vaccinated_per_hundred                                                        0.0\n",
       "people_fully_vaccinated_per_hundred                                                  0.0\n",
       "daily_vaccinations_per_million                                                       0.0\n",
       "vaccines                               Abdala, Johnson&Johnson, Oxford/AstraZeneca, P...\n",
       "source_name                            Africa Centres for Disease Control and Prevention\n",
       "source_website                         http://103.247.238.92/webportal/pages/covid19-...\n",
       "year                                                                                2020\n",
       "month                                                                                  1\n",
       "day                                                                                    1\n",
       "dtype: object"
      ]
     },
     "execution_count": 14,
     "metadata": {},
     "output_type": "execute_result"
    }
   ],
   "source": [
    "vaccinations_df.min()"
   ]
  },
  {
   "cell_type": "code",
   "execution_count": 15,
   "metadata": {
    "execution": {
     "iopub.execute_input": "2021-10-26T05:18:20.818732Z",
     "iopub.status.busy": "2021-10-26T05:18:20.818377Z",
     "iopub.status.idle": "2021-10-26T05:18:20.873423Z",
     "shell.execute_reply": "2021-10-26T05:18:20.871909Z",
     "shell.execute_reply.started": "2021-10-26T05:18:20.818695Z"
    },
    "executionInfo": {
     "elapsed": 382,
     "status": "ok",
     "timestamp": 1625424487186,
     "user": {
      "displayName": "Anirban Saha",
      "photoUrl": "https://lh3.googleusercontent.com/a-/AOh14Gjyb92afz3EKbQ81YgXIXJ2xTvOb0I8CeT4KMiDTw=s64",
      "userId": "02348100453944470349"
     },
     "user_tz": -360
    },
    "id": "UAwzISlAKFJ8",
    "outputId": "1aa40d71-c3ae-45e4-a465-66ef49639488"
   },
   "outputs": [
    {
     "data": {
      "text/plain": [
       "country                                                              Zimbabwe\n",
       "iso_code                                                                  ZWE\n",
       "date                                                      2021-11-09 00:00:00\n",
       "total_vaccinations                                               2346831000.0\n",
       "people_vaccinated                                                1155058478.0\n",
       "people_fully_vaccinated                                          1072454000.0\n",
       "daily_vaccinations_raw                                             24741000.0\n",
       "daily_vaccinations                                                 22424286.0\n",
       "total_vaccinations_per_hundred                                         272.87\n",
       "people_vaccinated_per_hundred                                          120.44\n",
       "people_fully_vaccinated_per_hundred                                    118.17\n",
       "daily_vaccinations_per_million                                       117497.0\n",
       "vaccines                                                            Sputnik V\n",
       "source_name                                         World Health Organization\n",
       "source_website                         https://www.unidoscontraelcovid.gob.bo\n",
       "year                                                                     2021\n",
       "month                                                                      12\n",
       "day                                                                        31\n",
       "dtype: object"
      ]
     },
     "execution_count": 15,
     "metadata": {},
     "output_type": "execute_result"
    }
   ],
   "source": [
    "vaccinations_df.max()"
   ]
  },
  {
   "cell_type": "markdown",
   "metadata": {
    "id": "rWUXdPNvBBZD"
   },
   "source": [
    "Explore the country Coloum"
   ]
  },
  {
   "cell_type": "code",
   "execution_count": 16,
   "metadata": {
    "execution": {
     "iopub.execute_input": "2021-10-26T05:18:20.875394Z",
     "iopub.status.busy": "2021-10-26T05:18:20.874918Z",
     "iopub.status.idle": "2021-10-26T05:18:20.901867Z",
     "shell.execute_reply": "2021-10-26T05:18:20.900436Z",
     "shell.execute_reply.started": "2021-10-26T05:18:20.87534Z"
    },
    "executionInfo": {
     "elapsed": 404,
     "status": "ok",
     "timestamp": 1625424490891,
     "user": {
      "displayName": "Anirban Saha",
      "photoUrl": "https://lh3.googleusercontent.com/a-/AOh14Gjyb92afz3EKbQ81YgXIXJ2xTvOb0I8CeT4KMiDTw=s64",
      "userId": "02348100453944470349"
     },
     "user_tz": -360
    },
    "id": "e3vGI9LmKFJ8",
    "outputId": "8f854bfe-6250-43ee-cff0-596b4c159e8f"
   },
   "outputs": [
    {
     "data": {
      "text/plain": [
       "Denmark             343\n",
       "Norway              342\n",
       "Latvia              341\n",
       "United States       332\n",
       "Canada              331\n",
       "                   ... \n",
       "Pitcairn             85\n",
       "Tanzania             83\n",
       "Falkland Islands     67\n",
       "Niue                 43\n",
       "Burundi              18\n",
       "Name: country, Length: 223, dtype: int64"
      ]
     },
     "execution_count": 16,
     "metadata": {},
     "output_type": "execute_result"
    }
   ],
   "source": [
    "vaccinations_df.country.value_counts()"
   ]
  },
  {
   "cell_type": "code",
   "execution_count": 17,
   "metadata": {
    "execution": {
     "iopub.execute_input": "2021-10-26T05:18:20.904128Z",
     "iopub.status.busy": "2021-10-26T05:18:20.903494Z",
     "iopub.status.idle": "2021-10-26T05:18:20.915651Z",
     "shell.execute_reply": "2021-10-26T05:18:20.914461Z",
     "shell.execute_reply.started": "2021-10-26T05:18:20.904085Z"
    },
    "executionInfo": {
     "elapsed": 379,
     "status": "ok",
     "timestamp": 1625424496178,
     "user": {
      "displayName": "Anirban Saha",
      "photoUrl": "https://lh3.googleusercontent.com/a-/AOh14Gjyb92afz3EKbQ81YgXIXJ2xTvOb0I8CeT4KMiDTw=s64",
      "userId": "02348100453944470349"
     },
     "user_tz": -360
    },
    "id": "P6rTrHaSKFJ8",
    "outputId": "43f00919-74cc-404e-eff6-839c3ed8e43d"
   },
   "outputs": [
    {
     "data": {
      "text/plain": [
       "0        Afghanistan\n",
       "1        Afghanistan\n",
       "2        Afghanistan\n",
       "3        Afghanistan\n",
       "4        Afghanistan\n",
       "            ...     \n",
       "56636       Zimbabwe\n",
       "56637       Zimbabwe\n",
       "56638       Zimbabwe\n",
       "56639       Zimbabwe\n",
       "56640       Zimbabwe\n",
       "Name: country, Length: 56641, dtype: object"
      ]
     },
     "execution_count": 17,
     "metadata": {},
     "output_type": "execute_result"
    }
   ],
   "source": [
    "vaccinations_df.country"
   ]
  },
  {
   "cell_type": "code",
   "execution_count": 18,
   "metadata": {
    "execution": {
     "iopub.execute_input": "2021-10-26T05:18:20.917766Z",
     "iopub.status.busy": "2021-10-26T05:18:20.917209Z",
     "iopub.status.idle": "2021-10-26T05:18:20.941625Z",
     "shell.execute_reply": "2021-10-26T05:18:20.940532Z",
     "shell.execute_reply.started": "2021-10-26T05:18:20.917717Z"
    },
    "executionInfo": {
     "elapsed": 824,
     "status": "ok",
     "timestamp": 1625424500592,
     "user": {
      "displayName": "Anirban Saha",
      "photoUrl": "https://lh3.googleusercontent.com/a-/AOh14Gjyb92afz3EKbQ81YgXIXJ2xTvOb0I8CeT4KMiDTw=s64",
      "userId": "02348100453944470349"
     },
     "user_tz": -360
    },
    "id": "pALjM9dTKFJ8",
    "outputId": "77ed70e7-6d40-4a9c-d25e-d689143c84e8"
   },
   "outputs": [
    {
     "data": {
      "text/plain": [
       "223"
      ]
     },
     "execution_count": 18,
     "metadata": {},
     "output_type": "execute_result"
    }
   ],
   "source": [
    "vaccinations_df.country.nunique()"
   ]
  },
  {
   "cell_type": "markdown",
   "metadata": {
    "id": "-dqrqSBfKFJ8"
   },
   "source": [
    "Explore the min and max of fully vacnated people. "
   ]
  },
  {
   "cell_type": "code",
   "execution_count": 19,
   "metadata": {
    "execution": {
     "iopub.execute_input": "2021-10-26T05:18:20.947214Z",
     "iopub.status.busy": "2021-10-26T05:18:20.946677Z",
     "iopub.status.idle": "2021-10-26T05:18:20.955665Z",
     "shell.execute_reply": "2021-10-26T05:18:20.954698Z",
     "shell.execute_reply.started": "2021-10-26T05:18:20.947174Z"
    },
    "executionInfo": {
     "elapsed": 55,
     "status": "ok",
     "timestamp": 1625423472922,
     "user": {
      "displayName": "Anirban Saha",
      "photoUrl": "https://lh3.googleusercontent.com/a-/AOh14Gjyb92afz3EKbQ81YgXIXJ2xTvOb0I8CeT4KMiDTw=s64",
      "userId": "02348100453944470349"
     },
     "user_tz": -360
    },
    "id": "epfCpaxGKFJ8",
    "outputId": "b1ac299b-244a-4f93-8e66-fc8ad7f7f398"
   },
   "outputs": [
    {
     "data": {
      "text/plain": [
       "0.0"
      ]
     },
     "execution_count": 19,
     "metadata": {},
     "output_type": "execute_result"
    }
   ],
   "source": [
    "vaccinations_df.people_fully_vaccinated.min()"
   ]
  },
  {
   "cell_type": "code",
   "execution_count": 20,
   "metadata": {
    "execution": {
     "iopub.execute_input": "2021-10-26T05:18:20.958135Z",
     "iopub.status.busy": "2021-10-26T05:18:20.957749Z",
     "iopub.status.idle": "2021-10-26T05:18:20.971563Z",
     "shell.execute_reply": "2021-10-26T05:18:20.970327Z",
     "shell.execute_reply.started": "2021-10-26T05:18:20.958095Z"
    },
    "executionInfo": {
     "elapsed": 374,
     "status": "ok",
     "timestamp": 1625423494790,
     "user": {
      "displayName": "Anirban Saha",
      "photoUrl": "https://lh3.googleusercontent.com/a-/AOh14Gjyb92afz3EKbQ81YgXIXJ2xTvOb0I8CeT4KMiDTw=s64",
      "userId": "02348100453944470349"
     },
     "user_tz": -360
    },
    "id": "0oKVZZFHKFJ9",
    "outputId": "2bc14990-6098-4494-9acc-e6b669e8c0f1"
   },
   "outputs": [
    {
     "data": {
      "text/plain": [
       "1072454000.0"
      ]
     },
     "execution_count": 20,
     "metadata": {},
     "output_type": "execute_result"
    }
   ],
   "source": [
    "vaccinations_df.people_fully_vaccinated.max()"
   ]
  },
  {
   "cell_type": "markdown",
   "metadata": {
    "id": "4uij5xnbKFJ9"
   },
   "source": [
    "Explore the min and max date."
   ]
  },
  {
   "cell_type": "code",
   "execution_count": 21,
   "metadata": {
    "execution": {
     "iopub.execute_input": "2021-10-26T05:18:20.973736Z",
     "iopub.status.busy": "2021-10-26T05:18:20.973159Z",
     "iopub.status.idle": "2021-10-26T05:18:20.991453Z",
     "shell.execute_reply": "2021-10-26T05:18:20.99047Z",
     "shell.execute_reply.started": "2021-10-26T05:18:20.973693Z"
    },
    "executionInfo": {
     "elapsed": 399,
     "status": "ok",
     "timestamp": 1625424435707,
     "user": {
      "displayName": "Anirban Saha",
      "photoUrl": "https://lh3.googleusercontent.com/a-/AOh14Gjyb92afz3EKbQ81YgXIXJ2xTvOb0I8CeT4KMiDTw=s64",
      "userId": "02348100453944470349"
     },
     "user_tz": -360
    },
    "id": "5ajJhoDBKFJ9",
    "outputId": "b6a250fb-1140-4e48-eef1-51500356b805"
   },
   "outputs": [
    {
     "data": {
      "text/plain": [
       "Timestamp('2020-12-01 00:00:00')"
      ]
     },
     "execution_count": 21,
     "metadata": {},
     "output_type": "execute_result"
    }
   ],
   "source": [
    "vaccinations_df.date.min()"
   ]
  },
  {
   "cell_type": "code",
   "execution_count": 22,
   "metadata": {
    "execution": {
     "iopub.execute_input": "2021-10-26T05:18:20.993717Z",
     "iopub.status.busy": "2021-10-26T05:18:20.993077Z",
     "iopub.status.idle": "2021-10-26T05:18:21.009991Z",
     "shell.execute_reply": "2021-10-26T05:18:21.009091Z",
     "shell.execute_reply.started": "2021-10-26T05:18:20.993671Z"
    },
    "executionInfo": {
     "elapsed": 392,
     "status": "ok",
     "timestamp": 1625424454136,
     "user": {
      "displayName": "Anirban Saha",
      "photoUrl": "https://lh3.googleusercontent.com/a-/AOh14Gjyb92afz3EKbQ81YgXIXJ2xTvOb0I8CeT4KMiDTw=s64",
      "userId": "02348100453944470349"
     },
     "user_tz": -360
    },
    "id": "ettd2A5jKFJ9",
    "outputId": "bd63100d-592d-450d-c62d-b98ae91d9c14"
   },
   "outputs": [
    {
     "data": {
      "text/plain": [
       "Timestamp('2021-11-09 00:00:00')"
      ]
     },
     "execution_count": 22,
     "metadata": {},
     "output_type": "execute_result"
    }
   ],
   "source": [
    "vaccinations_df.date.max()"
   ]
  },
  {
   "cell_type": "markdown",
   "metadata": {
    "id": "fbZEIU3i8CU8"
   },
   "source": [
    "Explore The Number of daily vaccinations dynamic"
   ]
  },
  {
   "cell_type": "code",
   "execution_count": 23,
   "metadata": {
    "execution": {
     "iopub.execute_input": "2021-10-26T05:18:21.012192Z",
     "iopub.status.busy": "2021-10-26T05:18:21.011539Z",
     "iopub.status.idle": "2021-10-26T05:18:32.392794Z",
     "shell.execute_reply": "2021-10-26T05:18:32.390643Z",
     "shell.execute_reply.started": "2021-10-26T05:18:21.012146Z"
    },
    "executionInfo": {
     "elapsed": 6200,
     "status": "ok",
     "timestamp": 1625426844802,
     "user": {
      "displayName": "Anirban Saha",
      "photoUrl": "https://lh3.googleusercontent.com/a-/AOh14Gjyb92afz3EKbQ81YgXIXJ2xTvOb0I8CeT4KMiDTw=s64",
      "userId": "02348100453944470349"
     },
     "user_tz": -360
    },
    "id": "2wKpwINh79Fn",
    "outputId": "15295682-04e4-448a-eb8f-2bc1ca633d8b"
   },
   "outputs": [
    {
     "data": {
      "image/png": "[encoded data removed]",
      "text/plain": [
       "<Figure size 1152x576 with 1 Axes>"
      ]
     },
     "metadata": {
      "needs_background": "light"
     },
     "output_type": "display_data"
    }
   ],
   "source": [
    "plt.figure(figsize=(16,8))\n",
    "sns.lineplot(x=vaccinations_df.date, y=vaccinations_df.daily_vaccinations)\n",
    "plt.title('The Number of daily vaccinations dynamic')\n",
    "plt.show()"
   ]
  },
  {
   "cell_type": "markdown",
   "metadata": {
    "id": "26C-6X-g_rky"
   },
   "source": [
    "Explore the Vaccination procedure go on rapidly from which date."
   ]
  },
  {
   "cell_type": "code",
   "execution_count": 24,
   "metadata": {
    "execution": {
     "iopub.execute_input": "2021-10-26T05:18:32.395676Z",
     "iopub.status.busy": "2021-10-26T05:18:32.395051Z",
     "iopub.status.idle": "2021-10-26T05:18:32.4796Z",
     "shell.execute_reply": "2021-10-26T05:18:32.47797Z",
     "shell.execute_reply.started": "2021-10-26T05:18:32.395612Z"
    },
    "executionInfo": {
     "elapsed": 367,
     "status": "ok",
     "timestamp": 1625426650015,
     "user": {
      "displayName": "Anirban Saha",
      "photoUrl": "https://lh3.googleusercontent.com/a-/AOh14Gjyb92afz3EKbQ81YgXIXJ2xTvOb0I8CeT4KMiDTw=s64",
      "userId": "02348100453944470349"
     },
     "user_tz": -360
    },
    "id": "A1oEhX009fOb"
   },
   "outputs": [],
   "source": [
    "countries = vaccinations_df.groupby('country')['total_vaccinations'].max().sort_values(ascending= False)[:5].index\n",
    "\n",
    "top_countries = pd.DataFrame(columns= vaccinations_df.columns)\n",
    "for country in countries:\n",
    "    top_countries = top_countries.append(vaccinations_df.loc[vaccinations_df['country'] == country])"
   ]
  },
  {
   "cell_type": "code",
   "execution_count": 25,
   "metadata": {
    "execution": {
     "iopub.execute_input": "2021-10-26T05:18:32.481871Z",
     "iopub.status.busy": "2021-10-26T05:18:32.481445Z",
     "iopub.status.idle": "2021-10-26T05:18:33.242181Z",
     "shell.execute_reply": "2021-10-26T05:18:33.240981Z",
     "shell.execute_reply.started": "2021-10-26T05:18:32.481828Z"
    },
    "executionInfo": {
     "elapsed": 1157,
     "status": "ok",
     "timestamp": 1625427035613,
     "user": {
      "displayName": "Anirban Saha",
      "photoUrl": "https://lh3.googleusercontent.com/a-/AOh14Gjyb92afz3EKbQ81YgXIXJ2xTvOb0I8CeT4KMiDTw=s64",
      "userId": "02348100453944470349"
     },
     "user_tz": -360
    },
    "id": "LEhaye_M-np_",
    "outputId": "c793d065-e7a2-4499-ec52-d3dd430c265b"
   },
   "outputs": [
    {
     "name": "stderr",
     "output_type": "stream",
     "text": [
      "/Users/wqq/opt/anaconda3/lib/python3.8/site-packages/seaborn/_decorators.py:36: FutureWarning: Pass the following variables as keyword args: x, y. From version 0.12, the only valid positional argument will be `data`, and passing other arguments without an explicit keyword will result in an error or misinterpretation.\n",
      "  warnings.warn(\n"
     ]
    },
    {
     "data": {
      "image/png": "[encoded data removed]",
      "text/plain": [
       "<Figure size 1440x576 with 1 Axes>"
      ]
     },
     "metadata": {
      "needs_background": "light"
     },
     "output_type": "display_data"
    }
   ],
   "source": [
    "plt.figure(figsize=(20,8))\n",
    "sns.lineplot(top_countries['date'], top_countries['daily_vaccinations_per_million'], hue= top_countries['country'], ci= False)\n",
    "plt.title('Vaccination procedure go on rapidly');"
   ]
  },
  {
   "cell_type": "markdown",
   "metadata": {
    "id": "4lIi2XKGKFJ-"
   },
   "source": [
    "## Asking and Answering Questions\n",
    "\n"
   ]
  },
  {
   "cell_type": "markdown",
   "metadata": {
    "id": "Kdqfd-pXKFJ-"
   },
   "source": [
    "#### Q1: Which country has most number of fully vaccinated people?"
   ]
  },
  {
   "cell_type": "code",
   "execution_count": 26,
   "metadata": {
    "execution": {
     "iopub.execute_input": "2021-10-26T05:18:33.244098Z",
     "iopub.status.busy": "2021-10-26T05:18:33.24374Z",
     "iopub.status.idle": "2021-10-26T05:18:33.259748Z",
     "shell.execute_reply": "2021-10-26T05:18:33.257969Z",
     "shell.execute_reply.started": "2021-10-26T05:18:33.244061Z"
    },
    "executionInfo": {
     "elapsed": 383,
     "status": "ok",
     "timestamp": 1625424951338,
     "user": {
      "displayName": "Anirban Saha",
      "photoUrl": "https://lh3.googleusercontent.com/a-/AOh14Gjyb92afz3EKbQ81YgXIXJ2xTvOb0I8CeT4KMiDTw=s64",
      "userId": "02348100453944470349"
     },
     "user_tz": -360
    },
    "id": "fqGLxnIeKFJ-"
   },
   "outputs": [],
   "source": [
    "fully_vaccinated = vaccinations_df.groupby(\"country\")[\"people_fully_vaccinated\"].max().sort_values(ascending= False).head(25)"
   ]
  },
  {
   "cell_type": "code",
   "execution_count": 27,
   "metadata": {
    "execution": {
     "iopub.execute_input": "2021-10-26T05:18:33.262516Z",
     "iopub.status.busy": "2021-10-26T05:18:33.261892Z",
     "iopub.status.idle": "2021-10-26T05:18:33.287774Z",
     "shell.execute_reply": "2021-10-26T05:18:33.286863Z",
     "shell.execute_reply.started": "2021-10-26T05:18:33.26247Z"
    },
    "executionInfo": {
     "elapsed": 411,
     "status": "ok",
     "timestamp": 1625424958793,
     "user": {
      "displayName": "Anirban Saha",
      "photoUrl": "https://lh3.googleusercontent.com/a-/AOh14Gjyb92afz3EKbQ81YgXIXJ2xTvOb0I8CeT4KMiDTw=s64",
      "userId": "02348100453944470349"
     },
     "user_tz": -360
    },
    "id": "0-sj0YaOKFJ-",
    "outputId": "8475b417-1196-4706-e6b0-614514159cb9"
   },
   "outputs": [
    {
     "data": {
      "text/html": [
       "<div>\n",
       "<style scoped>\n",
       "    .dataframe tbody tr th:only-of-type {\n",
       "        vertical-align: middle;\n",
       "    }\n",
       "\n",
       "    .dataframe tbody tr th {\n",
       "        vertical-align: top;\n",
       "    }\n",
       "\n",
       "    .dataframe thead th {\n",
       "        text-align: right;\n",
       "    }\n",
       "</style>\n",
       "<table border=\"1\" class=\"dataframe\">\n",
       "  <thead>\n",
       "    <tr style=\"text-align: right;\">\n",
       "      <th></th>\n",
       "      <th>country</th>\n",
       "      <th>people_fully_vaccinated</th>\n",
       "    </tr>\n",
       "  </thead>\n",
       "  <tbody>\n",
       "    <tr>\n",
       "      <th>0</th>\n",
       "      <td>China</td>\n",
       "      <td>1.072454e+09</td>\n",
       "    </tr>\n",
       "    <tr>\n",
       "      <th>1</th>\n",
       "      <td>India</td>\n",
       "      <td>3.481638e+08</td>\n",
       "    </tr>\n",
       "    <tr>\n",
       "      <th>2</th>\n",
       "      <td>United States</td>\n",
       "      <td>1.927250e+08</td>\n",
       "    </tr>\n",
       "    <tr>\n",
       "      <th>3</th>\n",
       "      <td>Brazil</td>\n",
       "      <td>1.231666e+08</td>\n",
       "    </tr>\n",
       "    <tr>\n",
       "      <th>4</th>\n",
       "      <td>Japan</td>\n",
       "      <td>9.413425e+07</td>\n",
       "    </tr>\n",
       "    <tr>\n",
       "      <th>5</th>\n",
       "      <td>Indonesia</td>\n",
       "      <td>8.007052e+07</td>\n",
       "    </tr>\n",
       "    <tr>\n",
       "      <th>6</th>\n",
       "      <td>Mexico</td>\n",
       "      <td>6.226448e+07</td>\n",
       "    </tr>\n",
       "    <tr>\n",
       "      <th>7</th>\n",
       "      <td>Germany</td>\n",
       "      <td>5.585283e+07</td>\n",
       "    </tr>\n",
       "    <tr>\n",
       "      <th>8</th>\n",
       "      <td>Russia</td>\n",
       "      <td>4.993653e+07</td>\n",
       "    </tr>\n",
       "    <tr>\n",
       "      <th>9</th>\n",
       "      <td>Turkey</td>\n",
       "      <td>4.934197e+07</td>\n",
       "    </tr>\n",
       "    <tr>\n",
       "      <th>10</th>\n",
       "      <td>France</td>\n",
       "      <td>4.620641e+07</td>\n",
       "    </tr>\n",
       "    <tr>\n",
       "      <th>11</th>\n",
       "      <td>Pakistan</td>\n",
       "      <td>4.598693e+07</td>\n",
       "    </tr>\n",
       "    <tr>\n",
       "      <th>12</th>\n",
       "      <td>United Kingdom</td>\n",
       "      <td>4.587304e+07</td>\n",
       "    </tr>\n",
       "    <tr>\n",
       "      <th>13</th>\n",
       "      <td>Italy</td>\n",
       "      <td>4.359370e+07</td>\n",
       "    </tr>\n",
       "    <tr>\n",
       "      <th>14</th>\n",
       "      <td>Iran</td>\n",
       "      <td>4.019320e+07</td>\n",
       "    </tr>\n",
       "    <tr>\n",
       "      <th>15</th>\n",
       "      <td>South Korea</td>\n",
       "      <td>3.962603e+07</td>\n",
       "    </tr>\n",
       "    <tr>\n",
       "      <th>16</th>\n",
       "      <td>England</td>\n",
       "      <td>3.845436e+07</td>\n",
       "    </tr>\n",
       "    <tr>\n",
       "      <th>17</th>\n",
       "      <td>Spain</td>\n",
       "      <td>3.739825e+07</td>\n",
       "    </tr>\n",
       "    <tr>\n",
       "      <th>18</th>\n",
       "      <td>Philippines</td>\n",
       "      <td>3.565628e+07</td>\n",
       "    </tr>\n",
       "    <tr>\n",
       "      <th>19</th>\n",
       "      <td>Thailand</td>\n",
       "      <td>3.391254e+07</td>\n",
       "    </tr>\n",
       "    <tr>\n",
       "      <th>20</th>\n",
       "      <td>Bangladesh</td>\n",
       "      <td>3.162627e+07</td>\n",
       "    </tr>\n",
       "    <tr>\n",
       "      <th>21</th>\n",
       "      <td>Vietnam</td>\n",
       "      <td>3.030377e+07</td>\n",
       "    </tr>\n",
       "    <tr>\n",
       "      <th>22</th>\n",
       "      <td>Canada</td>\n",
       "      <td>2.854331e+07</td>\n",
       "    </tr>\n",
       "    <tr>\n",
       "      <th>23</th>\n",
       "      <td>Argentina</td>\n",
       "      <td>2.678589e+07</td>\n",
       "    </tr>\n",
       "    <tr>\n",
       "      <th>24</th>\n",
       "      <td>Malaysia</td>\n",
       "      <td>2.463169e+07</td>\n",
       "    </tr>\n",
       "  </tbody>\n",
       "</table>\n",
       "</div>"
      ],
      "text/plain": [
       "           country  people_fully_vaccinated\n",
       "0            China             1.072454e+09\n",
       "1            India             3.481638e+08\n",
       "2    United States             1.927250e+08\n",
       "3           Brazil             1.231666e+08\n",
       "4            Japan             9.413425e+07\n",
       "5        Indonesia             8.007052e+07\n",
       "6           Mexico             6.226448e+07\n",
       "7          Germany             5.585283e+07\n",
       "8           Russia             4.993653e+07\n",
       "9           Turkey             4.934197e+07\n",
       "10          France             4.620641e+07\n",
       "11        Pakistan             4.598693e+07\n",
       "12  United Kingdom             4.587304e+07\n",
       "13           Italy             4.359370e+07\n",
       "14            Iran             4.019320e+07\n",
       "15     South Korea             3.962603e+07\n",
       "16         England             3.845436e+07\n",
       "17           Spain             3.739825e+07\n",
       "18     Philippines             3.565628e+07\n",
       "19        Thailand             3.391254e+07\n",
       "20      Bangladesh             3.162627e+07\n",
       "21         Vietnam             3.030377e+07\n",
       "22          Canada             2.854331e+07\n",
       "23       Argentina             2.678589e+07\n",
       "24        Malaysia             2.463169e+07"
      ]
     },
     "execution_count": 27,
     "metadata": {},
     "output_type": "execute_result"
    }
   ],
   "source": [
    "fully_vaccinated.reset_index()"
   ]
  },
  {
   "cell_type": "code",
   "execution_count": 28,
   "metadata": {
    "execution": {
     "iopub.execute_input": "2021-10-26T05:18:33.289957Z",
     "iopub.status.busy": "2021-10-26T05:18:33.289506Z",
     "iopub.status.idle": "2021-10-26T05:18:33.932119Z",
     "shell.execute_reply": "2021-10-26T05:18:33.930373Z",
     "shell.execute_reply.started": "2021-10-26T05:18:33.289909Z"
    },
    "executionInfo": {
     "elapsed": 1080,
     "status": "ok",
     "timestamp": 1625426861578,
     "user": {
      "displayName": "Anirban Saha",
      "photoUrl": "https://lh3.googleusercontent.com/a-/AOh14Gjyb92afz3EKbQ81YgXIXJ2xTvOb0I8CeT4KMiDTw=s64",
      "userId": "02348100453944470349"
     },
     "user_tz": -360
    },
    "id": "f848J13WKFJ-",
    "outputId": "bfae9a17-7d9a-4b67-9481-64204a98d753"
   },
   "outputs": [
    {
     "data": {
      "image/png": "[encoded data removed]",
      "text/plain": [
       "<Figure size 1152x720 with 1 Axes>"
      ]
     },
     "metadata": {
      "needs_background": "light"
     },
     "output_type": "display_data"
    }
   ],
   "source": [
    "plt.figure(figsize=(16,10))\n",
    "ax = sns.barplot(x=fully_vaccinated, y=fully_vaccinated.index)\n",
    "plt.xlabel(\"Fully Vaccinated\")\n",
    "plt.ylabel(\"Country\");\n",
    "plt.title('Which country has most number of fully vaccinated people?');\n",
    "\n",
    "for patch in ax.patches:\n",
    "    width = patch.get_width()\n",
    "    height = patch.get_height()\n",
    "    x = patch.get_x()\n",
    "    y = patch.get_y()\n",
    "    \n",
    "    plt.text(width + x, height + y, '{:.1f} '.format(width))"
   ]
  },
  {
   "cell_type": "markdown",
   "metadata": {
    "id": "JcLPLANxKFJ_"
   },
   "source": [
    "#### Q2: Daily COVID-19 vaccine doses administered per million people."
   ]
  },
  {
   "cell_type": "code",
   "execution_count": 29,
   "metadata": {
    "execution": {
     "iopub.execute_input": "2021-10-26T05:18:33.934124Z",
     "iopub.status.busy": "2021-10-26T05:18:33.933694Z",
     "iopub.status.idle": "2021-10-26T05:18:33.949941Z",
     "shell.execute_reply": "2021-10-26T05:18:33.948705Z",
     "shell.execute_reply.started": "2021-10-26T05:18:33.93408Z"
    },
    "executionInfo": {
     "elapsed": 43,
     "status": "aborted",
     "timestamp": 1625423472929,
     "user": {
      "displayName": "Anirban Saha",
      "photoUrl": "https://lh3.googleusercontent.com/a-/AOh14Gjyb92afz3EKbQ81YgXIXJ2xTvOb0I8CeT4KMiDTw=s64",
      "userId": "02348100453944470349"
     },
     "user_tz": -360
    },
    "id": "MBCMZPURKFJ_"
   },
   "outputs": [],
   "source": [
    "daily_vaccinations_per_million = vaccinations_df.groupby(\"country\")[\"daily_vaccinations_per_million\"].max().sort_values(ascending= False).head(15)"
   ]
  },
  {
   "cell_type": "code",
   "execution_count": 30,
   "metadata": {
    "execution": {
     "iopub.execute_input": "2021-10-26T05:18:33.952694Z",
     "iopub.status.busy": "2021-10-26T05:18:33.952161Z",
     "iopub.status.idle": "2021-10-26T05:18:33.977473Z",
     "shell.execute_reply": "2021-10-26T05:18:33.97657Z",
     "shell.execute_reply.started": "2021-10-26T05:18:33.952642Z"
    },
    "executionInfo": {
     "elapsed": 43,
     "status": "aborted",
     "timestamp": 1625423472929,
     "user": {
      "displayName": "Anirban Saha",
      "photoUrl": "https://lh3.googleusercontent.com/a-/AOh14Gjyb92afz3EKbQ81YgXIXJ2xTvOb0I8CeT4KMiDTw=s64",
      "userId": "02348100453944470349"
     },
     "user_tz": -360
    },
    "id": "3Ls6VTxhKFJ_"
   },
   "outputs": [
    {
     "data": {
      "text/html": [
       "<div>\n",
       "<style scoped>\n",
       "    .dataframe tbody tr th:only-of-type {\n",
       "        vertical-align: middle;\n",
       "    }\n",
       "\n",
       "    .dataframe tbody tr th {\n",
       "        vertical-align: top;\n",
       "    }\n",
       "\n",
       "    .dataframe thead th {\n",
       "        text-align: right;\n",
       "    }\n",
       "</style>\n",
       "<table border=\"1\" class=\"dataframe\">\n",
       "  <thead>\n",
       "    <tr style=\"text-align: right;\">\n",
       "      <th></th>\n",
       "      <th>country</th>\n",
       "      <th>daily_vaccinations_per_million</th>\n",
       "    </tr>\n",
       "  </thead>\n",
       "  <tbody>\n",
       "    <tr>\n",
       "      <th>0</th>\n",
       "      <td>Bhutan</td>\n",
       "      <td>117497.0</td>\n",
       "    </tr>\n",
       "    <tr>\n",
       "      <th>1</th>\n",
       "      <td>Niue</td>\n",
       "      <td>53903.0</td>\n",
       "    </tr>\n",
       "    <tr>\n",
       "      <th>2</th>\n",
       "      <td>Falkland Islands</td>\n",
       "      <td>53571.0</td>\n",
       "    </tr>\n",
       "    <tr>\n",
       "      <th>3</th>\n",
       "      <td>Nauru</td>\n",
       "      <td>51504.0</td>\n",
       "    </tr>\n",
       "    <tr>\n",
       "      <th>4</th>\n",
       "      <td>Cook Islands</td>\n",
       "      <td>46210.0</td>\n",
       "    </tr>\n",
       "    <tr>\n",
       "      <th>5</th>\n",
       "      <td>Mongolia</td>\n",
       "      <td>37684.0</td>\n",
       "    </tr>\n",
       "    <tr>\n",
       "      <th>6</th>\n",
       "      <td>Gibraltar</td>\n",
       "      <td>31700.0</td>\n",
       "    </tr>\n",
       "    <tr>\n",
       "      <th>7</th>\n",
       "      <td>Wallis and Futuna</td>\n",
       "      <td>30918.0</td>\n",
       "    </tr>\n",
       "    <tr>\n",
       "      <th>8</th>\n",
       "      <td>Cuba</td>\n",
       "      <td>28441.0</td>\n",
       "    </tr>\n",
       "    <tr>\n",
       "      <th>9</th>\n",
       "      <td>Saint Helena</td>\n",
       "      <td>27071.0</td>\n",
       "    </tr>\n",
       "    <tr>\n",
       "      <th>10</th>\n",
       "      <td>Aruba</td>\n",
       "      <td>24992.0</td>\n",
       "    </tr>\n",
       "    <tr>\n",
       "      <th>11</th>\n",
       "      <td>Seychelles</td>\n",
       "      <td>24275.0</td>\n",
       "    </tr>\n",
       "    <tr>\n",
       "      <th>12</th>\n",
       "      <td>Andorra</td>\n",
       "      <td>22778.0</td>\n",
       "    </tr>\n",
       "    <tr>\n",
       "      <th>13</th>\n",
       "      <td>Sri Lanka</td>\n",
       "      <td>22125.0</td>\n",
       "    </tr>\n",
       "    <tr>\n",
       "      <th>14</th>\n",
       "      <td>Iceland</td>\n",
       "      <td>21977.0</td>\n",
       "    </tr>\n",
       "  </tbody>\n",
       "</table>\n",
       "</div>"
      ],
      "text/plain": [
       "              country  daily_vaccinations_per_million\n",
       "0              Bhutan                        117497.0\n",
       "1                Niue                         53903.0\n",
       "2    Falkland Islands                         53571.0\n",
       "3               Nauru                         51504.0\n",
       "4        Cook Islands                         46210.0\n",
       "5            Mongolia                         37684.0\n",
       "6           Gibraltar                         31700.0\n",
       "7   Wallis and Futuna                         30918.0\n",
       "8                Cuba                         28441.0\n",
       "9        Saint Helena                         27071.0\n",
       "10              Aruba                         24992.0\n",
       "11         Seychelles                         24275.0\n",
       "12            Andorra                         22778.0\n",
       "13          Sri Lanka                         22125.0\n",
       "14            Iceland                         21977.0"
      ]
     },
     "execution_count": 30,
     "metadata": {},
     "output_type": "execute_result"
    }
   ],
   "source": [
    "daily_vaccinations_per_million.reset_index()"
   ]
  },
  {
   "cell_type": "code",
   "execution_count": 31,
   "metadata": {
    "execution": {
     "iopub.execute_input": "2021-10-26T05:18:33.979722Z",
     "iopub.status.busy": "2021-10-26T05:18:33.979093Z",
     "iopub.status.idle": "2021-10-26T05:18:34.3844Z",
     "shell.execute_reply": "2021-10-26T05:18:34.383313Z",
     "shell.execute_reply.started": "2021-10-26T05:18:33.979663Z"
    },
    "executionInfo": {
     "elapsed": 44,
     "status": "aborted",
     "timestamp": 1625423472930,
     "user": {
      "displayName": "Anirban Saha",
      "photoUrl": "https://lh3.googleusercontent.com/a-/AOh14Gjyb92afz3EKbQ81YgXIXJ2xTvOb0I8CeT4KMiDTw=s64",
      "userId": "02348100453944470349"
     },
     "user_tz": -360
    },
    "id": "3X_TBQsbKFJ_"
   },
   "outputs": [
    {
     "data": {
      "image/png": "[encoded data removed]",
      "text/plain": [
       "<Figure size 864x576 with 1 Axes>"
      ]
     },
     "metadata": {
      "needs_background": "light"
     },
     "output_type": "display_data"
    }
   ],
   "source": [
    "plt.figure(figsize=(12,8))\n",
    "ax = sns.barplot(x=daily_vaccinations_per_million, y=daily_vaccinations_per_million.index )\n",
    "plt.xlabel(\"daily vaccinations per million\")\n",
    "plt.ylabel(\"Country\")\n",
    "plt.title(\"Daily COVID-19 vaccine doses administered per million people\");\n",
    "\n",
    "for patch in ax.patches:\n",
    "    width = patch.get_width()\n",
    "    height = patch.get_height()\n",
    "    x = patch.get_x()\n",
    "    y = patch.get_y()\n",
    "    \n",
    "    plt.text(width + x, height + y, '{:.1f} '.format(width))"
   ]
  },
  {
   "cell_type": "markdown",
   "metadata": {
    "id": "By2rg5h9KFJ_"
   },
   "source": [
    "#### Q3: How many people daily vaccinated in Bangladesh?"
   ]
  },
  {
   "cell_type": "code",
   "execution_count": 32,
   "metadata": {
    "execution": {
     "iopub.execute_input": "2021-10-26T05:18:34.386593Z",
     "iopub.status.busy": "2021-10-26T05:18:34.38596Z",
     "iopub.status.idle": "2021-10-26T05:18:34.439374Z",
     "shell.execute_reply": "2021-10-26T05:18:34.438171Z",
     "shell.execute_reply.started": "2021-10-26T05:18:34.38655Z"
    },
    "executionInfo": {
     "elapsed": 43,
     "status": "aborted",
     "timestamp": 1625423472930,
     "user": {
      "displayName": "Anirban Saha",
      "photoUrl": "https://lh3.googleusercontent.com/a-/AOh14Gjyb92afz3EKbQ81YgXIXJ2xTvOb0I8CeT4KMiDTw=s64",
      "userId": "02348100453944470349"
     },
     "user_tz": -360
    },
    "id": "qeUMISaFKFKA"
   },
   "outputs": [
    {
     "data": {
      "text/html": [
       "<div>\n",
       "<style scoped>\n",
       "    .dataframe tbody tr th:only-of-type {\n",
       "        vertical-align: middle;\n",
       "    }\n",
       "\n",
       "    .dataframe tbody tr th {\n",
       "        vertical-align: top;\n",
       "    }\n",
       "\n",
       "    .dataframe thead th {\n",
       "        text-align: right;\n",
       "    }\n",
       "</style>\n",
       "<table border=\"1\" class=\"dataframe\">\n",
       "  <thead>\n",
       "    <tr style=\"text-align: right;\">\n",
       "      <th></th>\n",
       "      <th>country</th>\n",
       "      <th>iso_code</th>\n",
       "      <th>date</th>\n",
       "      <th>total_vaccinations</th>\n",
       "      <th>people_vaccinated</th>\n",
       "      <th>people_fully_vaccinated</th>\n",
       "      <th>daily_vaccinations_raw</th>\n",
       "      <th>daily_vaccinations</th>\n",
       "      <th>total_vaccinations_per_hundred</th>\n",
       "      <th>people_vaccinated_per_hundred</th>\n",
       "      <th>people_fully_vaccinated_per_hundred</th>\n",
       "      <th>daily_vaccinations_per_million</th>\n",
       "      <th>vaccines</th>\n",
       "      <th>source_name</th>\n",
       "      <th>source_website</th>\n",
       "      <th>year</th>\n",
       "      <th>month</th>\n",
       "      <th>day</th>\n",
       "    </tr>\n",
       "  </thead>\n",
       "  <tbody>\n",
       "    <tr>\n",
       "      <th>4064</th>\n",
       "      <td>Bangladesh</td>\n",
       "      <td>BGD</td>\n",
       "      <td>2021-01-26</td>\n",
       "      <td>0.0</td>\n",
       "      <td>0.0</td>\n",
       "      <td>0.0</td>\n",
       "      <td>0.0</td>\n",
       "      <td>0.0</td>\n",
       "      <td>0.00</td>\n",
       "      <td>0.00</td>\n",
       "      <td>0.00</td>\n",
       "      <td>0.0</td>\n",
       "      <td>Moderna, Oxford/AstraZeneca, Pfizer/BioNTech, ...</td>\n",
       "      <td>Directorate General of Health Services</td>\n",
       "      <td>http://103.247.238.92/webportal/pages/covid19-...</td>\n",
       "      <td>2021</td>\n",
       "      <td>1</td>\n",
       "      <td>26</td>\n",
       "    </tr>\n",
       "    <tr>\n",
       "      <th>4065</th>\n",
       "      <td>Bangladesh</td>\n",
       "      <td>BGD</td>\n",
       "      <td>2021-01-27</td>\n",
       "      <td>26.0</td>\n",
       "      <td>26.0</td>\n",
       "      <td>0.0</td>\n",
       "      <td>26.0</td>\n",
       "      <td>26.0</td>\n",
       "      <td>0.00</td>\n",
       "      <td>0.00</td>\n",
       "      <td>0.00</td>\n",
       "      <td>0.0</td>\n",
       "      <td>Moderna, Oxford/AstraZeneca, Pfizer/BioNTech, ...</td>\n",
       "      <td>Directorate General of Health Services</td>\n",
       "      <td>http://103.247.238.92/webportal/pages/covid19-...</td>\n",
       "      <td>2021</td>\n",
       "      <td>1</td>\n",
       "      <td>27</td>\n",
       "    </tr>\n",
       "    <tr>\n",
       "      <th>4066</th>\n",
       "      <td>Bangladesh</td>\n",
       "      <td>BGD</td>\n",
       "      <td>2021-01-28</td>\n",
       "      <td>567.0</td>\n",
       "      <td>567.0</td>\n",
       "      <td>0.0</td>\n",
       "      <td>541.0</td>\n",
       "      <td>284.0</td>\n",
       "      <td>0.00</td>\n",
       "      <td>0.00</td>\n",
       "      <td>0.00</td>\n",
       "      <td>2.0</td>\n",
       "      <td>Moderna, Oxford/AstraZeneca, Pfizer/BioNTech, ...</td>\n",
       "      <td>Directorate General of Health Services</td>\n",
       "      <td>http://103.247.238.92/webportal/pages/covid19-...</td>\n",
       "      <td>2021</td>\n",
       "      <td>1</td>\n",
       "      <td>28</td>\n",
       "    </tr>\n",
       "    <tr>\n",
       "      <th>4067</th>\n",
       "      <td>Bangladesh</td>\n",
       "      <td>BGD</td>\n",
       "      <td>2021-01-29</td>\n",
       "      <td>0.0</td>\n",
       "      <td>0.0</td>\n",
       "      <td>0.0</td>\n",
       "      <td>0.0</td>\n",
       "      <td>1209.0</td>\n",
       "      <td>0.00</td>\n",
       "      <td>0.00</td>\n",
       "      <td>0.00</td>\n",
       "      <td>7.0</td>\n",
       "      <td>Moderna, Oxford/AstraZeneca, Pfizer/BioNTech, ...</td>\n",
       "      <td>Directorate General of Health Services</td>\n",
       "      <td>http://103.247.238.92/webportal/pages/covid19-...</td>\n",
       "      <td>2021</td>\n",
       "      <td>1</td>\n",
       "      <td>29</td>\n",
       "    </tr>\n",
       "    <tr>\n",
       "      <th>4068</th>\n",
       "      <td>Bangladesh</td>\n",
       "      <td>BGD</td>\n",
       "      <td>2021-01-30</td>\n",
       "      <td>0.0</td>\n",
       "      <td>0.0</td>\n",
       "      <td>0.0</td>\n",
       "      <td>0.0</td>\n",
       "      <td>1671.0</td>\n",
       "      <td>0.00</td>\n",
       "      <td>0.00</td>\n",
       "      <td>0.00</td>\n",
       "      <td>10.0</td>\n",
       "      <td>Moderna, Oxford/AstraZeneca, Pfizer/BioNTech, ...</td>\n",
       "      <td>Directorate General of Health Services</td>\n",
       "      <td>http://103.247.238.92/webportal/pages/covid19-...</td>\n",
       "      <td>2021</td>\n",
       "      <td>1</td>\n",
       "      <td>30</td>\n",
       "    </tr>\n",
       "    <tr>\n",
       "      <th>...</th>\n",
       "      <td>...</td>\n",
       "      <td>...</td>\n",
       "      <td>...</td>\n",
       "      <td>...</td>\n",
       "      <td>...</td>\n",
       "      <td>...</td>\n",
       "      <td>...</td>\n",
       "      <td>...</td>\n",
       "      <td>...</td>\n",
       "      <td>...</td>\n",
       "      <td>...</td>\n",
       "      <td>...</td>\n",
       "      <td>...</td>\n",
       "      <td>...</td>\n",
       "      <td>...</td>\n",
       "      <td>...</td>\n",
       "      <td>...</td>\n",
       "      <td>...</td>\n",
       "    </tr>\n",
       "    <tr>\n",
       "      <th>4347</th>\n",
       "      <td>Bangladesh</td>\n",
       "      <td>BGD</td>\n",
       "      <td>2021-11-05</td>\n",
       "      <td>0.0</td>\n",
       "      <td>0.0</td>\n",
       "      <td>0.0</td>\n",
       "      <td>0.0</td>\n",
       "      <td>899101.0</td>\n",
       "      <td>0.00</td>\n",
       "      <td>0.00</td>\n",
       "      <td>0.00</td>\n",
       "      <td>5406.0</td>\n",
       "      <td>Moderna, Oxford/AstraZeneca, Pfizer/BioNTech, ...</td>\n",
       "      <td>Directorate General of Health Services</td>\n",
       "      <td>http://103.247.238.92/webportal/pages/covid19-...</td>\n",
       "      <td>2021</td>\n",
       "      <td>11</td>\n",
       "      <td>5</td>\n",
       "    </tr>\n",
       "    <tr>\n",
       "      <th>4348</th>\n",
       "      <td>Bangladesh</td>\n",
       "      <td>BGD</td>\n",
       "      <td>2021-11-06</td>\n",
       "      <td>73875852.0</td>\n",
       "      <td>43356721.0</td>\n",
       "      <td>30519131.0</td>\n",
       "      <td>0.0</td>\n",
       "      <td>710310.0</td>\n",
       "      <td>44.42</td>\n",
       "      <td>26.07</td>\n",
       "      <td>18.35</td>\n",
       "      <td>4271.0</td>\n",
       "      <td>Moderna, Oxford/AstraZeneca, Pfizer/BioNTech, ...</td>\n",
       "      <td>Directorate General of Health Services</td>\n",
       "      <td>http://103.247.238.92/webportal/pages/covid19-...</td>\n",
       "      <td>2021</td>\n",
       "      <td>11</td>\n",
       "      <td>6</td>\n",
       "    </tr>\n",
       "    <tr>\n",
       "      <th>4349</th>\n",
       "      <td>Bangladesh</td>\n",
       "      <td>BGD</td>\n",
       "      <td>2021-11-07</td>\n",
       "      <td>75557364.0</td>\n",
       "      <td>44688518.0</td>\n",
       "      <td>30868846.0</td>\n",
       "      <td>1681512.0</td>\n",
       "      <td>721041.0</td>\n",
       "      <td>45.43</td>\n",
       "      <td>26.87</td>\n",
       "      <td>18.56</td>\n",
       "      <td>4336.0</td>\n",
       "      <td>Moderna, Oxford/AstraZeneca, Pfizer/BioNTech, ...</td>\n",
       "      <td>Directorate General of Health Services</td>\n",
       "      <td>http://103.247.238.92/webportal/pages/covid19-...</td>\n",
       "      <td>2021</td>\n",
       "      <td>11</td>\n",
       "      <td>7</td>\n",
       "    </tr>\n",
       "    <tr>\n",
       "      <th>4350</th>\n",
       "      <td>Bangladesh</td>\n",
       "      <td>BGD</td>\n",
       "      <td>2021-11-08</td>\n",
       "      <td>76877974.0</td>\n",
       "      <td>45591578.0</td>\n",
       "      <td>31286396.0</td>\n",
       "      <td>1320610.0</td>\n",
       "      <td>783689.0</td>\n",
       "      <td>46.23</td>\n",
       "      <td>27.41</td>\n",
       "      <td>18.81</td>\n",
       "      <td>4712.0</td>\n",
       "      <td>Moderna, Oxford/AstraZeneca, Pfizer/BioNTech, ...</td>\n",
       "      <td>Directorate General of Health Services</td>\n",
       "      <td>http://103.247.238.92/webportal/pages/covid19-...</td>\n",
       "      <td>2021</td>\n",
       "      <td>11</td>\n",
       "      <td>8</td>\n",
       "    </tr>\n",
       "    <tr>\n",
       "      <th>4351</th>\n",
       "      <td>Bangladesh</td>\n",
       "      <td>BGD</td>\n",
       "      <td>2021-11-09</td>\n",
       "      <td>78356722.0</td>\n",
       "      <td>46730449.0</td>\n",
       "      <td>31626273.0</td>\n",
       "      <td>1478748.0</td>\n",
       "      <td>904233.0</td>\n",
       "      <td>47.12</td>\n",
       "      <td>28.10</td>\n",
       "      <td>19.02</td>\n",
       "      <td>5437.0</td>\n",
       "      <td>Moderna, Oxford/AstraZeneca, Pfizer/BioNTech, ...</td>\n",
       "      <td>Directorate General of Health Services</td>\n",
       "      <td>http://103.247.238.92/webportal/pages/covid19-...</td>\n",
       "      <td>2021</td>\n",
       "      <td>11</td>\n",
       "      <td>9</td>\n",
       "    </tr>\n",
       "  </tbody>\n",
       "</table>\n",
       "<p>288 rows × 18 columns</p>\n",
       "</div>"
      ],
      "text/plain": [
       "         country iso_code       date  total_vaccinations  people_vaccinated  \\\n",
       "4064  Bangladesh      BGD 2021-01-26                 0.0                0.0   \n",
       "4065  Bangladesh      BGD 2021-01-27                26.0               26.0   \n",
       "4066  Bangladesh      BGD 2021-01-28               567.0              567.0   \n",
       "4067  Bangladesh      BGD 2021-01-29                 0.0                0.0   \n",
       "4068  Bangladesh      BGD 2021-01-30                 0.0                0.0   \n",
       "...          ...      ...        ...                 ...                ...   \n",
       "4347  Bangladesh      BGD 2021-11-05                 0.0                0.0   \n",
       "4348  Bangladesh      BGD 2021-11-06          73875852.0         43356721.0   \n",
       "4349  Bangladesh      BGD 2021-11-07          75557364.0         44688518.0   \n",
       "4350  Bangladesh      BGD 2021-11-08          76877974.0         45591578.0   \n",
       "4351  Bangladesh      BGD 2021-11-09          78356722.0         46730449.0   \n",
       "\n",
       "      people_fully_vaccinated  daily_vaccinations_raw  daily_vaccinations  \\\n",
       "4064                      0.0                     0.0                 0.0   \n",
       "4065                      0.0                    26.0                26.0   \n",
       "4066                      0.0                   541.0               284.0   \n",
       "4067                      0.0                     0.0              1209.0   \n",
       "4068                      0.0                     0.0              1671.0   \n",
       "...                       ...                     ...                 ...   \n",
       "4347                      0.0                     0.0            899101.0   \n",
       "4348               30519131.0                     0.0            710310.0   \n",
       "4349               30868846.0               1681512.0            721041.0   \n",
       "4350               31286396.0               1320610.0            783689.0   \n",
       "4351               31626273.0               1478748.0            904233.0   \n",
       "\n",
       "      total_vaccinations_per_hundred  people_vaccinated_per_hundred  \\\n",
       "4064                            0.00                           0.00   \n",
       "4065                            0.00                           0.00   \n",
       "4066                            0.00                           0.00   \n",
       "4067                            0.00                           0.00   \n",
       "4068                            0.00                           0.00   \n",
       "...                              ...                            ...   \n",
       "4347                            0.00                           0.00   \n",
       "4348                           44.42                          26.07   \n",
       "4349                           45.43                          26.87   \n",
       "4350                           46.23                          27.41   \n",
       "4351                           47.12                          28.10   \n",
       "\n",
       "      people_fully_vaccinated_per_hundred  daily_vaccinations_per_million  \\\n",
       "4064                                 0.00                             0.0   \n",
       "4065                                 0.00                             0.0   \n",
       "4066                                 0.00                             2.0   \n",
       "4067                                 0.00                             7.0   \n",
       "4068                                 0.00                            10.0   \n",
       "...                                   ...                             ...   \n",
       "4347                                 0.00                          5406.0   \n",
       "4348                                18.35                          4271.0   \n",
       "4349                                18.56                          4336.0   \n",
       "4350                                18.81                          4712.0   \n",
       "4351                                19.02                          5437.0   \n",
       "\n",
       "                                               vaccines  \\\n",
       "4064  Moderna, Oxford/AstraZeneca, Pfizer/BioNTech, ...   \n",
       "4065  Moderna, Oxford/AstraZeneca, Pfizer/BioNTech, ...   \n",
       "4066  Moderna, Oxford/AstraZeneca, Pfizer/BioNTech, ...   \n",
       "4067  Moderna, Oxford/AstraZeneca, Pfizer/BioNTech, ...   \n",
       "4068  Moderna, Oxford/AstraZeneca, Pfizer/BioNTech, ...   \n",
       "...                                                 ...   \n",
       "4347  Moderna, Oxford/AstraZeneca, Pfizer/BioNTech, ...   \n",
       "4348  Moderna, Oxford/AstraZeneca, Pfizer/BioNTech, ...   \n",
       "4349  Moderna, Oxford/AstraZeneca, Pfizer/BioNTech, ...   \n",
       "4350  Moderna, Oxford/AstraZeneca, Pfizer/BioNTech, ...   \n",
       "4351  Moderna, Oxford/AstraZeneca, Pfizer/BioNTech, ...   \n",
       "\n",
       "                                 source_name  \\\n",
       "4064  Directorate General of Health Services   \n",
       "4065  Directorate General of Health Services   \n",
       "4066  Directorate General of Health Services   \n",
       "4067  Directorate General of Health Services   \n",
       "4068  Directorate General of Health Services   \n",
       "...                                      ...   \n",
       "4347  Directorate General of Health Services   \n",
       "4348  Directorate General of Health Services   \n",
       "4349  Directorate General of Health Services   \n",
       "4350  Directorate General of Health Services   \n",
       "4351  Directorate General of Health Services   \n",
       "\n",
       "                                         source_website  year  month  day  \n",
       "4064  http://103.247.238.92/webportal/pages/covid19-...  2021      1   26  \n",
       "4065  http://103.247.238.92/webportal/pages/covid19-...  2021      1   27  \n",
       "4066  http://103.247.238.92/webportal/pages/covid19-...  2021      1   28  \n",
       "4067  http://103.247.238.92/webportal/pages/covid19-...  2021      1   29  \n",
       "4068  http://103.247.238.92/webportal/pages/covid19-...  2021      1   30  \n",
       "...                                                 ...   ...    ...  ...  \n",
       "4347  http://103.247.238.92/webportal/pages/covid19-...  2021     11    5  \n",
       "4348  http://103.247.238.92/webportal/pages/covid19-...  2021     11    6  \n",
       "4349  http://103.247.238.92/webportal/pages/covid19-...  2021     11    7  \n",
       "4350  http://103.247.238.92/webportal/pages/covid19-...  2021     11    8  \n",
       "4351  http://103.247.238.92/webportal/pages/covid19-...  2021     11    9  \n",
       "\n",
       "[288 rows x 18 columns]"
      ]
     },
     "execution_count": 32,
     "metadata": {},
     "output_type": "execute_result"
    }
   ],
   "source": [
    "bangladesh_df = vaccinations_df[vaccinations_df['country'] == 'Bangladesh']\n",
    "bangladesh_df"
   ]
  },
  {
   "cell_type": "code",
   "execution_count": 33,
   "metadata": {
    "execution": {
     "iopub.execute_input": "2021-10-26T05:18:34.441174Z",
     "iopub.status.busy": "2021-10-26T05:18:34.440826Z",
     "iopub.status.idle": "2021-10-26T05:18:34.460373Z",
     "shell.execute_reply": "2021-10-26T05:18:34.458785Z",
     "shell.execute_reply.started": "2021-10-26T05:18:34.441138Z"
    },
    "executionInfo": {
     "elapsed": 43,
     "status": "aborted",
     "timestamp": 1625423472930,
     "user": {
      "displayName": "Anirban Saha",
      "photoUrl": "https://lh3.googleusercontent.com/a-/AOh14Gjyb92afz3EKbQ81YgXIXJ2xTvOb0I8CeT4KMiDTw=s64",
      "userId": "02348100453944470349"
     },
     "user_tz": -360
    },
    "id": "xmsr-Q6ZKFKA"
   },
   "outputs": [
    {
     "name": "stdout",
     "output_type": "stream",
     "text": [
      "<class 'pandas.core.frame.DataFrame'>\n",
      "Int64Index: 288 entries, 4064 to 4351\n",
      "Data columns (total 18 columns):\n",
      " #   Column                               Non-Null Count  Dtype         \n",
      "---  ------                               --------------  -----         \n",
      " 0   country                              288 non-null    object        \n",
      " 1   iso_code                             288 non-null    object        \n",
      " 2   date                                 288 non-null    datetime64[ns]\n",
      " 3   total_vaccinations                   288 non-null    float64       \n",
      " 4   people_vaccinated                    288 non-null    float64       \n",
      " 5   people_fully_vaccinated              288 non-null    float64       \n",
      " 6   daily_vaccinations_raw               288 non-null    float64       \n",
      " 7   daily_vaccinations                   288 non-null    float64       \n",
      " 8   total_vaccinations_per_hundred       288 non-null    float64       \n",
      " 9   people_vaccinated_per_hundred        288 non-null    float64       \n",
      " 10  people_fully_vaccinated_per_hundred  288 non-null    float64       \n",
      " 11  daily_vaccinations_per_million       288 non-null    float64       \n",
      " 12  vaccines                             288 non-null    object        \n",
      " 13  source_name                          288 non-null    object        \n",
      " 14  source_website                       288 non-null    object        \n",
      " 15  year                                 288 non-null    int64         \n",
      " 16  month                                288 non-null    int64         \n",
      " 17  day                                  288 non-null    int64         \n",
      "dtypes: datetime64[ns](1), float64(9), int64(3), object(5)\n",
      "memory usage: 42.8+ KB\n"
     ]
    }
   ],
   "source": [
    "bangladesh_df.info()"
   ]
  },
  {
   "cell_type": "code",
   "execution_count": 34,
   "metadata": {
    "execution": {
     "iopub.execute_input": "2021-10-26T05:18:34.462715Z",
     "iopub.status.busy": "2021-10-26T05:18:34.462218Z",
     "iopub.status.idle": "2021-10-26T05:18:34.481465Z",
     "shell.execute_reply": "2021-10-26T05:18:34.479701Z",
     "shell.execute_reply.started": "2021-10-26T05:18:34.462659Z"
    }
   },
   "outputs": [
    {
     "data": {
      "text/plain": [
       "51068090.0"
      ]
     },
     "execution_count": 34,
     "metadata": {},
     "output_type": "execute_result"
    }
   ],
   "source": [
    "bangladesh_df.daily_vaccinations_raw.sum()"
   ]
  },
  {
   "cell_type": "code",
   "execution_count": 35,
   "metadata": {
    "execution": {
     "iopub.execute_input": "2021-10-26T05:18:34.483274Z",
     "iopub.status.busy": "2021-10-26T05:18:34.482844Z",
     "iopub.status.idle": "2021-10-26T05:18:34.988401Z",
     "shell.execute_reply": "2021-10-26T05:18:34.987462Z",
     "shell.execute_reply.started": "2021-10-26T05:18:34.483221Z"
    },
    "executionInfo": {
     "elapsed": 44,
     "status": "aborted",
     "timestamp": 1625423472931,
     "user": {
      "displayName": "Anirban Saha",
      "photoUrl": "https://lh3.googleusercontent.com/a-/AOh14Gjyb92afz3EKbQ81YgXIXJ2xTvOb0I8CeT4KMiDTw=s64",
      "userId": "02348100453944470349"
     },
     "user_tz": -360
    },
    "id": "FNalt4eEKFKA"
   },
   "outputs": [
    {
     "data": {
      "image/png": "[encoded data removed]",
      "text/plain": [
       "<Figure size 1440x720 with 1 Axes>"
      ]
     },
     "metadata": {
      "needs_background": "light"
     },
     "output_type": "display_data"
    }
   ],
   "source": [
    "plt.figure(figsize=(20,10))\n",
    "sns.lineplot(x=bangladesh_df.date, y=bangladesh_df.daily_vaccinations_raw)\n",
    "plt.xlabel(\"Date\")\n",
    "plt.ylabel(\"Daily_Vaccination\")\n",
    "plt.title('How many people daily vaccinated in Bangladesh?');"
   ]
  },
  {
   "cell_type": "markdown",
   "metadata": {
    "id": "TKGTtPJMKFKA"
   },
   "source": [
    "#### Q4: How many people take at least one dose of vaccine in Bangladesh?"
   ]
  },
  {
   "cell_type": "code",
   "execution_count": 36,
   "metadata": {
    "execution": {
     "iopub.execute_input": "2021-10-26T05:18:34.990526Z",
     "iopub.status.busy": "2021-10-26T05:18:34.989758Z",
     "iopub.status.idle": "2021-10-26T05:18:34.995902Z",
     "shell.execute_reply": "2021-10-26T05:18:34.994856Z",
     "shell.execute_reply.started": "2021-10-26T05:18:34.990468Z"
    },
    "executionInfo": {
     "elapsed": 44,
     "status": "aborted",
     "timestamp": 1625423472931,
     "user": {
      "displayName": "Anirban Saha",
      "photoUrl": "https://lh3.googleusercontent.com/a-/AOh14Gjyb92afz3EKbQ81YgXIXJ2xTvOb0I8CeT4KMiDTw=s64",
      "userId": "02348100453944470349"
     },
     "user_tz": -360
    },
    "id": "cxl4pfNOKFKA"
   },
   "outputs": [],
   "source": [
    "total_vaccinated_bd = bangladesh_df.total_vaccinations.max()/1000000"
   ]
  },
  {
   "cell_type": "code",
   "execution_count": 37,
   "metadata": {
    "execution": {
     "iopub.execute_input": "2021-10-26T05:18:34.998429Z",
     "iopub.status.busy": "2021-10-26T05:18:34.997786Z",
     "iopub.status.idle": "2021-10-26T05:18:35.014791Z",
     "shell.execute_reply": "2021-10-26T05:18:35.01361Z",
     "shell.execute_reply.started": "2021-10-26T05:18:34.998379Z"
    },
    "executionInfo": {
     "elapsed": 44,
     "status": "aborted",
     "timestamp": 1625423472932,
     "user": {
      "displayName": "Anirban Saha",
      "photoUrl": "https://lh3.googleusercontent.com/a-/AOh14Gjyb92afz3EKbQ81YgXIXJ2xTvOb0I8CeT4KMiDTw=s64",
      "userId": "02348100453944470349"
     },
     "user_tz": -360
    },
    "id": "-Jadg7RTKFKA"
   },
   "outputs": [
    {
     "name": "stdout",
     "output_type": "stream",
     "text": [
      "78.36 M people take at least one dose of vaccine in Bangladesh.\n"
     ]
    }
   ],
   "source": [
    "print(\"{0:.2f} M people take at least one dose of vaccine in Bangladesh.\".format(total_vaccinated_bd))"
   ]
  },
  {
   "cell_type": "markdown",
   "metadata": {},
   "source": [
    "#### Q5: How many people total fully vaccinated in Bangladesh?"
   ]
  },
  {
   "cell_type": "code",
   "execution_count": 38,
   "metadata": {
    "execution": {
     "iopub.execute_input": "2021-10-26T05:18:35.017296Z",
     "iopub.status.busy": "2021-10-26T05:18:35.01689Z",
     "iopub.status.idle": "2021-10-26T05:18:35.029737Z",
     "shell.execute_reply": "2021-10-26T05:18:35.028415Z",
     "shell.execute_reply.started": "2021-10-26T05:18:35.017255Z"
    }
   },
   "outputs": [],
   "source": [
    "fully_vaccinated_bd = bangladesh_df.people_fully_vaccinated.max()/1000000"
   ]
  },
  {
   "cell_type": "code",
   "execution_count": 39,
   "metadata": {
    "execution": {
     "iopub.execute_input": "2021-10-26T05:18:35.032289Z",
     "iopub.status.busy": "2021-10-26T05:18:35.031572Z",
     "iopub.status.idle": "2021-10-26T05:18:35.053285Z",
     "shell.execute_reply": "2021-10-26T05:18:35.051257Z",
     "shell.execute_reply.started": "2021-10-26T05:18:35.032235Z"
    }
   },
   "outputs": [
    {
     "name": "stdout",
     "output_type": "stream",
     "text": [
      "Total fully vaccinated people in Bangladesh: 31.63M\n"
     ]
    }
   ],
   "source": [
    "print(\"Total fully vaccinated people in Bangladesh: {0:.2f}M\".format(fully_vaccinated_bd))"
   ]
  },
  {
   "cell_type": "markdown",
   "metadata": {
    "id": "xa5X2ncMKFKD"
   },
   "source": [
    "#### Q6: What is the country that vaccinated completely most of the population?"
   ]
  },
  {
   "cell_type": "code",
   "execution_count": 40,
   "metadata": {
    "execution": {
     "iopub.execute_input": "2021-10-26T05:18:35.055804Z",
     "iopub.status.busy": "2021-10-26T05:18:35.055296Z",
     "iopub.status.idle": "2021-10-26T05:18:35.074029Z",
     "shell.execute_reply": "2021-10-26T05:18:35.072735Z",
     "shell.execute_reply.started": "2021-10-26T05:18:35.055761Z"
    },
    "executionInfo": {
     "elapsed": 44,
     "status": "aborted",
     "timestamp": 1625423472932,
     "user": {
      "displayName": "Anirban Saha",
      "photoUrl": "https://lh3.googleusercontent.com/a-/AOh14Gjyb92afz3EKbQ81YgXIXJ2xTvOb0I8CeT4KMiDTw=s64",
      "userId": "02348100453944470349"
     },
     "user_tz": -360
    },
    "id": "oxr99NbdKFKD"
   },
   "outputs": [],
   "source": [
    "population_country=vaccinations_df.groupby('country')['total_vaccinations_per_hundred'].max().sort_values(ascending=False).head(15)\n",
    "\n"
   ]
  },
  {
   "cell_type": "code",
   "execution_count": 41,
   "metadata": {
    "execution": {
     "iopub.execute_input": "2021-10-26T05:18:35.076435Z",
     "iopub.status.busy": "2021-10-26T05:18:35.075799Z",
     "iopub.status.idle": "2021-10-26T05:18:35.094579Z",
     "shell.execute_reply": "2021-10-26T05:18:35.093531Z",
     "shell.execute_reply.started": "2021-10-26T05:18:35.076391Z"
    },
    "executionInfo": {
     "elapsed": 45,
     "status": "aborted",
     "timestamp": 1625423472933,
     "user": {
      "displayName": "Anirban Saha",
      "photoUrl": "https://lh3.googleusercontent.com/a-/AOh14Gjyb92afz3EKbQ81YgXIXJ2xTvOb0I8CeT4KMiDTw=s64",
      "userId": "02348100453944470349"
     },
     "user_tz": -360
    },
    "id": "Sp5oRWtnKFKD"
   },
   "outputs": [
    {
     "data": {
      "text/html": [
       "<div>\n",
       "<style scoped>\n",
       "    .dataframe tbody tr th:only-of-type {\n",
       "        vertical-align: middle;\n",
       "    }\n",
       "\n",
       "    .dataframe tbody tr th {\n",
       "        vertical-align: top;\n",
       "    }\n",
       "\n",
       "    .dataframe thead th {\n",
       "        text-align: right;\n",
       "    }\n",
       "</style>\n",
       "<table border=\"1\" class=\"dataframe\">\n",
       "  <thead>\n",
       "    <tr style=\"text-align: right;\">\n",
       "      <th></th>\n",
       "      <th>country</th>\n",
       "      <th>total_vaccinations_per_hundred</th>\n",
       "    </tr>\n",
       "  </thead>\n",
       "  <tbody>\n",
       "    <tr>\n",
       "      <th>0</th>\n",
       "      <td>Gibraltar</td>\n",
       "      <td>272.87</td>\n",
       "    </tr>\n",
       "    <tr>\n",
       "      <th>1</th>\n",
       "      <td>Cuba</td>\n",
       "      <td>233.48</td>\n",
       "    </tr>\n",
       "    <tr>\n",
       "      <th>2</th>\n",
       "      <td>United Arab Emirates</td>\n",
       "      <td>213.96</td>\n",
       "    </tr>\n",
       "    <tr>\n",
       "      <th>3</th>\n",
       "      <td>Pitcairn</td>\n",
       "      <td>200.00</td>\n",
       "    </tr>\n",
       "    <tr>\n",
       "      <th>4</th>\n",
       "      <td>Chile</td>\n",
       "      <td>198.83</td>\n",
       "    </tr>\n",
       "    <tr>\n",
       "      <th>5</th>\n",
       "      <td>Uruguay</td>\n",
       "      <td>191.36</td>\n",
       "    </tr>\n",
       "    <tr>\n",
       "      <th>6</th>\n",
       "      <td>Singapore</td>\n",
       "      <td>185.10</td>\n",
       "    </tr>\n",
       "    <tr>\n",
       "      <th>7</th>\n",
       "      <td>Cayman Islands</td>\n",
       "      <td>175.20</td>\n",
       "    </tr>\n",
       "    <tr>\n",
       "      <th>8</th>\n",
       "      <td>Malta</td>\n",
       "      <td>172.88</td>\n",
       "    </tr>\n",
       "    <tr>\n",
       "      <th>9</th>\n",
       "      <td>Seychelles</td>\n",
       "      <td>172.41</td>\n",
       "    </tr>\n",
       "    <tr>\n",
       "      <th>10</th>\n",
       "      <td>Jersey</td>\n",
       "      <td>172.29</td>\n",
       "    </tr>\n",
       "    <tr>\n",
       "      <th>11</th>\n",
       "      <td>Israel</td>\n",
       "      <td>172.23</td>\n",
       "    </tr>\n",
       "    <tr>\n",
       "      <th>12</th>\n",
       "      <td>Scotland</td>\n",
       "      <td>169.42</td>\n",
       "    </tr>\n",
       "    <tr>\n",
       "      <th>13</th>\n",
       "      <td>Iceland</td>\n",
       "      <td>167.36</td>\n",
       "    </tr>\n",
       "    <tr>\n",
       "      <th>14</th>\n",
       "      <td>Wales</td>\n",
       "      <td>166.36</td>\n",
       "    </tr>\n",
       "  </tbody>\n",
       "</table>\n",
       "</div>"
      ],
      "text/plain": [
       "                 country  total_vaccinations_per_hundred\n",
       "0              Gibraltar                          272.87\n",
       "1                   Cuba                          233.48\n",
       "2   United Arab Emirates                          213.96\n",
       "3               Pitcairn                          200.00\n",
       "4                  Chile                          198.83\n",
       "5                Uruguay                          191.36\n",
       "6              Singapore                          185.10\n",
       "7         Cayman Islands                          175.20\n",
       "8                  Malta                          172.88\n",
       "9             Seychelles                          172.41\n",
       "10                Jersey                          172.29\n",
       "11                Israel                          172.23\n",
       "12              Scotland                          169.42\n",
       "13               Iceland                          167.36\n",
       "14                 Wales                          166.36"
      ]
     },
     "execution_count": 41,
     "metadata": {},
     "output_type": "execute_result"
    }
   ],
   "source": [
    "population_country.reset_index()"
   ]
  },
  {
   "cell_type": "code",
   "execution_count": 42,
   "metadata": {
    "execution": {
     "iopub.execute_input": "2021-10-26T05:18:35.097219Z",
     "iopub.status.busy": "2021-10-26T05:18:35.096642Z",
     "iopub.status.idle": "2021-10-26T05:18:35.67281Z",
     "shell.execute_reply": "2021-10-26T05:18:35.671413Z",
     "shell.execute_reply.started": "2021-10-26T05:18:35.097174Z"
    },
    "executionInfo": {
     "elapsed": 45,
     "status": "aborted",
     "timestamp": 1625423472933,
     "user": {
      "displayName": "Anirban Saha",
      "photoUrl": "https://lh3.googleusercontent.com/a-/AOh14Gjyb92afz3EKbQ81YgXIXJ2xTvOb0I8CeT4KMiDTw=s64",
      "userId": "02348100453944470349"
     },
     "user_tz": -360
    },
    "id": "4QdJeIOVKFKD"
   },
   "outputs": [
    {
     "data": {
      "image/png": "[encoded data removed]",
      "text/plain": [
       "<Figure size 1080x576 with 1 Axes>"
      ]
     },
     "metadata": {
      "needs_background": "light"
     },
     "output_type": "display_data"
    }
   ],
   "source": [
    "plt.figure(figsize= (15, 8))\n",
    "ax = sns.barplot(x=population_country, y=population_country.index)\n",
    "plt.title('Total Vaccinations / Population')\n",
    "plt.xlabel('Total Vaccinations')\n",
    "plt.ylabel('Country')\n",
    "\n",
    "for patch in ax.patches:\n",
    "    width = patch.get_width()\n",
    "    height = patch.get_height()\n",
    "    x = patch.get_x()\n",
    "    y = patch.get_y()\n",
    "    \n",
    "    plt.text(width + x, height + y, '{:.1f} %'.format(width))"
   ]
  },
  {
   "cell_type": "markdown",
   "metadata": {
    "id": "A1yzoN5KKFKE"
   },
   "source": [
    "## Conclusion\n",
    "\n",
    "Here is the analysis of the covid-19 vaccinations data. In future we work more analysis on this data.\n",
    "\n",
    "* Datasets link - https://www.kaggle.com/gpreda/covid-world-vaccination-progress"
   ]
  }
 ],
 "metadata": {
  "kernelspec": {
   "display_name": "Python 3",
   "language": "python",
   "name": "python3"
  },
  "language_info": {
   "codemirror_mode": {
    "name": "ipython",
    "version": 3
   },
   "file_extension": ".py",
   "mimetype": "text/x-python",
   "name": "python",
   "nbconvert_exporter": "python",
   "pygments_lexer": "ipython3",
   "version": "3.8.5"
  }
 },
 "nbformat": 4,
 "nbformat_minor": 4
}
