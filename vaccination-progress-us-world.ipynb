{
 "cells": [
  {
   "cell_type": "markdown",
   "metadata": {},
   "source": [
    "# Vaccination Progress in the US and World\n",
    "\n",
    "<h2> What is the COVID-19/Coronavirus? </h2>\n",
    "\n",
    "* According to the CDC, \"coronavirus disease (COVID-19) is an infectious disease caused by a newly discovered coronavirus. Most people infected with the COVID-19 virus will experience mild to moderate respiratory illness and recover without requiring special treatment.  Older people, and those with underlying medical problems like cardiovascular disease, diabetes, chronic respiratory disease, and cancer are more likely to develop serious illness.\"\n",
    "* Continuing, \"the best way to prevent and slow down transmission is to be well informed about the COVID-19 virus, the disease it causes and how it spreads. Protect yourself and others from infection by washing your hands or using an alcohol based rub frequently and not touching your face.\"\n",
    "* Stay informed about COVID-19. Practice social distancing and healthy practices (washing hands). Educate your friends and family on the dangers of COVID-19. \n",
    "* Yes, there's currently a vaccine out, but the vaccine will take quite a while to distribute to everyone. Thus, I encourage everyone reading to be patient about COVID so we can unite together and minimize the catastrophic damage the coronavirus has inflicted.\n",
    "\n",
    "<h2> So what role do vaccines play? </h2>\n",
    "\n",
    "* How well it works: 95% efficacy in preventing COVID-19 in those without prior infection. In clinical trials, the vaccine was 100% effective at preventing severe disease.\n",
    "* In early May, the Pfizer-BioNTech vaccine was found to be more than 95% effective against severe disease or death from the Alpha variant (first detected in the United Kingdom) and the Beta variant (first identified in South Africa) in two studies based on real-world use of the vaccine. As far as the Delta variant (first seen in India), two studies reported by Public Health England that have not yet been peer reviewed showed that full vaccination (after two doses) is 88% effective against symptomatic disease and 96% effective against hospitalization.\n",
    "\n",
    "Bottom line: Vaccines are **very** effective, so if you haven't already and have the ability to, <span style=\"color: green\">please get vaccinated</span>! To learn more about COVID vaccines, click <a href=\"https://www.yalemedicine.org/news/covid-19-vaccine-comparison\">here</a>, and to learn why we need more people to be vaccinated, learn about herd immunity <a href=\"https://www.mayoclinic.org/diseases-conditions/coronavirus/in-depth/herd-immunity-and-coronavirus/art-20486808\">here</a>. Also feel free to check out my \"Daily COVID-19 Interactive Plots\" Kaggle notebook <a href=\"https://www.kaggle.com/ironicninja/daily-covid-19-interactive-plots\">here</a>, I promise you'll find alot of good stuff there.\n",
    "\n",
    "<h2> Table of Contents </h2>\n",
    "<ol style=\"font-size: 16px\">\n",
    "    <li><a href=\"https://www.kaggle.com/ironicninja/vaccination-progress-us-world#United-States-Vaccination-Progress\">United States Vaccination Progress</a></li>\n",
    "    <li><a href=\"https://www.kaggle.com/ironicninja/vaccination-progress-us-world#Countries-Vaccination-Progress\">Countries Vaccination Progress</a></li>\n",
    "</ol>\n",
    "\n",
    "<h2> Visualizations Included </h2> \n",
    "<ol style=\"font-size: 16px\">\n",
    "    <li>Total vaccinations given</li>\n",
    "    <li>Total people vaccinated</li>\n",
    "    <li>Percentage of people vaccinated by state/country</li>\n",
    "    <li>Daily number of vaccinations</li>\n",
    "    <li>Days left until everyone is fully vaccinated</li>\n",
    "    <li>Individual progress by states/countries</li>\n",
    " </ol>\n",
    "\n",
    "I may add some analysis in the future (vaccination progress compared to deaths, etc.), so if you like this work, please <span style=\"color: green\">upvote & comment</span>! I would really appreciate it 😊.\n",
    "\n",
    "All data is collected from Our World in Data (from the original raw github files)."
   ]
  },
  {
   "cell_type": "markdown",
   "metadata": {},
   "source": [
    "<h2> Essential Imports </h2>"
   ]
  },
  {
   "cell_type": "code",
   "execution_count": null,
   "metadata": {
    "execution": {
     "iopub.execute_input": "2021-06-25T05:03:07.298843Z",
     "iopub.status.busy": "2021-06-25T05:03:07.298353Z",
     "iopub.status.idle": "2021-06-25T05:03:07.30754Z",
     "shell.execute_reply": "2021-06-25T05:03:07.306668Z",
     "shell.execute_reply.started": "2021-06-25T05:03:07.298804Z"
    }
   },
   "outputs": [],
   "source": [
    "import pandas as pd\n",
    "import numpy as np\n",
    "from datetime import datetime, timedelta\n",
    "import plotly.graph_objects as go\n",
    "import plotly.express as px\n",
    "import plotly.offline as py\n",
    "py.init_notebook_mode(connected=True)\n",
    "import warnings\n",
    "warnings.filterwarnings(\"ignore\")"
   ]
  },
  {
   "cell_type": "markdown",
   "metadata": {},
   "source": [
    "# United States Vaccination Progress\n",
    "\n",
    "One important note is that the <a href=\"https://raw.githubusercontent.com/owid/covid-19-data/master/public/data/vaccinations/us_state_vaccinations.csv\">data</a> I use does NOT include COVID data for New York."
   ]
  },
  {
   "cell_type": "code",
   "execution_count": null,
   "metadata": {
    "_kg_hide-input": true,
    "execution": {
     "iopub.execute_input": "2021-06-25T05:03:07.316431Z",
     "iopub.status.busy": "2021-06-25T05:03:07.316077Z",
     "iopub.status.idle": "2021-06-25T05:03:07.322952Z",
     "shell.execute_reply": "2021-06-25T05:03:07.322026Z",
     "shell.execute_reply.started": "2021-06-25T05:03:07.3164Z"
    }
   },
   "outputs": [],
   "source": [
    "now = datetime.utcnow() - timedelta(hours=19)\n",
    "today = now.strftime(\"%Y-%m-%d\")\n",
    "print(f\"Today's date is {today}.\")"
   ]
  },
  {
   "cell_type": "code",
   "execution_count": null,
   "metadata": {
    "_kg_hide-input": true,
    "execution": {
     "iopub.execute_input": "2021-06-25T05:03:07.32467Z",
     "iopub.status.busy": "2021-06-25T05:03:07.324352Z",
     "iopub.status.idle": "2021-06-25T05:03:07.337782Z",
     "shell.execute_reply": "2021-06-25T05:03:07.336852Z",
     "shell.execute_reply.started": "2021-06-25T05:03:07.324641Z"
    }
   },
   "outputs": [],
   "source": [
    "us_state_abbrev = {\n",
    "    'Alabama': 'AL',\n",
    "    'Alaska': 'AK',\n",
    "    'American Samoa': 'AS',\n",
    "    'Arizona': 'AZ',\n",
    "    'Arkansas': 'AR',\n",
    "    'California': 'CA',\n",
    "    'Colorado': 'CO',\n",
    "    'Connecticut': 'CT',\n",
    "    'Delaware': 'DE',\n",
    "    'District of Columbia': 'DC',\n",
    "    'Florida': 'FL',\n",
    "    'Georgia': 'GA',\n",
    "    'Guam': 'GU',\n",
    "    'Hawaii': 'HI',\n",
    "    'Idaho': 'ID',\n",
    "    'Illinois': 'IL',\n",
    "    'Indiana': 'IN',\n",
    "    'Iowa': 'IA',\n",
    "    'Kansas': 'KS',\n",
    "    'Kentucky': 'KY',\n",
    "    'Louisiana': 'LA',\n",
    "    'Maine': 'ME',\n",
    "    'Maryland': 'MD',\n",
    "    'Massachusetts': 'MA',\n",
    "    'Michigan': 'MI',\n",
    "    'Minnesota': 'MN',\n",
    "    'Mississippi': 'MS',\n",
    "    'Missouri': 'MO',\n",
    "    'Montana': 'MT',\n",
    "    'Nebraska': 'NE',\n",
    "    'Nevada': 'NV',\n",
    "    'New Hampshire': 'NH',\n",
    "    'New Jersey': 'NJ',\n",
    "    'New Mexico': 'NM',\n",
    "    'New York': 'NY',\n",
    "    'North Carolina': 'NC',\n",
    "    'North Dakota': 'ND',\n",
    "    'Northern Mariana Islands':'MP',\n",
    "    'Ohio': 'OH',\n",
    "    'Oklahoma': 'OK',\n",
    "    'Oregon': 'OR',\n",
    "    'Pennsylvania': 'PA',\n",
    "    'Puerto Rico': 'PR',\n",
    "    'Rhode Island': 'RI',\n",
    "    'South Carolina': 'SC',\n",
    "    'South Dakota': 'SD',\n",
    "    'Tennessee': 'TN',\n",
    "    'Texas': 'TX',\n",
    "    'Utah': 'UT',\n",
    "    'Vermont': 'VT',\n",
    "    'Virgin Islands': 'VI',\n",
    "    'Virginia': 'VA',\n",
    "    'Washington': 'WA',\n",
    "    'West Virginia': 'WV',\n",
    "    'Wisconsin': 'WI',\n",
    "    'Wyoming': 'WY'\n",
    "}"
   ]
  },
  {
   "cell_type": "markdown",
   "metadata": {},
   "source": [
    "Initialize the data:"
   ]
  },
  {
   "cell_type": "code",
   "execution_count": null,
   "metadata": {
    "execution": {
     "iopub.execute_input": "2021-06-25T05:03:07.339728Z",
     "iopub.status.busy": "2021-06-25T05:03:07.339241Z",
     "iopub.status.idle": "2021-06-25T05:03:07.881116Z",
     "shell.execute_reply": "2021-06-25T05:03:07.880274Z",
     "shell.execute_reply.started": "2021-06-25T05:03:07.339691Z"
    }
   },
   "outputs": [],
   "source": [
    "original_states_df = pd.read_csv(\"https://raw.githubusercontent.com/owid/covid-19-data/master/public/data/vaccinations/us_state_vaccinations.csv\")\n",
    "original_states_df['location'] = original_states_df['location'].map(us_state_abbrev) # e.g., Alaska -> AK\n",
    "original_states_df.dropna(subset=['location'], inplace=True) # drop any location which isn't in the abbreviation dict\n",
    "original_states_df.reset_index(drop=True, inplace=True)\n",
    "original_states_df.reset_index(inplace=True)\n",
    "for loc in us_state_abbrev.values():\n",
    "    if loc == 'NY':\n",
    "        continue\n",
    "    loc_ser = original_states_df.loc[original_states_df['location'] == loc].iloc[0]\n",
    "    index = loc_ser['index']\n",
    "    original_states_df.loc[index] = loc_ser.fillna(0)\n",
    "\n",
    "original_states_df.fillna(method=\"ffill\", inplace=True)\n",
    "original_states_df.fillna(0, inplace=True)"
   ]
  },
  {
   "cell_type": "markdown",
   "metadata": {},
   "source": [
    "Add variables (all pretty self-explanatory):"
   ]
  },
  {
   "cell_type": "code",
   "execution_count": null,
   "metadata": {
    "execution": {
     "iopub.execute_input": "2021-06-25T05:03:07.883291Z",
     "iopub.status.busy": "2021-06-25T05:03:07.882695Z",
     "iopub.status.idle": "2021-06-25T05:03:07.933141Z",
     "shell.execute_reply": "2021-06-25T05:03:07.931958Z",
     "shell.execute_reply.started": "2021-06-25T05:03:07.883247Z"
    }
   },
   "outputs": [],
   "source": [
    "original_states_df['unused_vaccines'] = original_states_df['total_distributed'] - original_states_df['total_vaccinations']\n",
    "original_states_df['one_dose'] = original_states_df['people_vaccinated'] - original_states_df['people_fully_vaccinated']\n",
    "original_states_df['one_dose_per_hundred'] = (original_states_df['people_vaccinated_per_hundred'] - original_states_df['people_fully_vaccinated_per_hundred']).round(2)\n",
    "original_states_df['population'] = (original_states_df['people_fully_vaccinated']/original_states_df['people_fully_vaccinated_per_hundred'].replace(0, 1)*100).astype(int)\n",
    "original_states_df['how_many_more_vaccines'] = (2*(original_states_df['population'] - original_states_df['people_vaccinated']) + original_states_df['one_dose']).astype(int)\n",
    "original_states_df['days_until_done'] = (original_states_df['how_many_more_vaccines']/original_states_df['daily_vaccinations'].replace(0, 1)).round(2)\n",
    "original_states_df.head()"
   ]
  },
  {
   "cell_type": "markdown",
   "metadata": {},
   "source": [
    "Create another DataFrame with a subset of the original data (only data for today):"
   ]
  },
  {
   "cell_type": "code",
   "execution_count": null,
   "metadata": {
    "execution": {
     "iopub.execute_input": "2021-06-25T05:03:07.935074Z",
     "iopub.status.busy": "2021-06-25T05:03:07.934635Z",
     "iopub.status.idle": "2021-06-25T05:03:07.971896Z",
     "shell.execute_reply": "2021-06-25T05:03:07.971161Z",
     "shell.execute_reply.started": "2021-06-25T05:03:07.935032Z"
    }
   },
   "outputs": [],
   "source": [
    "states_df = original_states_df.loc[original_states_df['date'] == today]\n",
    "states_df.head()"
   ]
  },
  {
   "cell_type": "markdown",
   "metadata": {},
   "source": [
    "<h3> Figure 1: Total Vaccinations Given in the United States </h3>\n",
    "\n",
    "Visualization of raw numbers for vaccinations given in the United States. Also includes data on total distributed vaccines and unused vaccines (calculated as the difference between total distributed and total vaccinations given)."
   ]
  },
  {
   "cell_type": "code",
   "execution_count": null,
   "metadata": {
    "_kg_hide-input": true,
    "execution": {
     "iopub.execute_input": "2021-06-25T05:03:50.100363Z",
     "iopub.status.busy": "2021-06-25T05:03:50.099667Z",
     "iopub.status.idle": "2021-06-25T05:03:50.127179Z",
     "shell.execute_reply": "2021-06-25T05:03:50.126189Z",
     "shell.execute_reply.started": "2021-06-25T05:03:50.100312Z"
    }
   },
   "outputs": [],
   "source": [
    "fig = go.Figure(data=go.Choropleth(\n",
    "    locations=states_df['location'],\n",
    "    z=states_df['total_vaccinations'].astype(int),\n",
    "    locationmode='USA-states',\n",
    "    colorscale=\"Reds\",\n",
    "    colorbar_title=\"Total Vaccinations Given\",\n",
    "    text='Total Distributed: ' + states_df['total_distributed'].astype(int).apply('{:,}'.format) + \n",
    "        '<br>Unused Vaccines: ' + states_df['unused_vaccines'].astype(int).apply('{:,}'.format)\n",
    "))\n",
    "\n",
    "fig.update_layout(\n",
    "    geo_scope='usa',\n",
    "    title={'text': f\"Total Vaccinations Given in the United States on {today}\", 'x': 0.5,\n",
    "                         'xanchor': 'center', 'font': {'size': 16}}\n",
    ")\n",
    "\n",
    "fig.show()"
   ]
  },
  {
   "cell_type": "markdown",
   "metadata": {},
   "source": [
    "<h3> Figure 2: Total People Vaccinated in the United States </h3>\n",
    "\n",
    "Visualization of the total number of people vaccinated in the United States. Also includes data on people fully vaccinated and people who only have one dose of a vaccine (calculated as people vaccinated minus people fully vaccinated)."
   ]
  },
  {
   "cell_type": "code",
   "execution_count": null,
   "metadata": {
    "_kg_hide-input": true,
    "execution": {
     "iopub.execute_input": "2021-06-25T05:03:08.004137Z",
     "iopub.status.busy": "2021-06-25T05:03:08.003867Z",
     "iopub.status.idle": "2021-06-25T05:03:08.036649Z",
     "shell.execute_reply": "2021-06-25T05:03:08.035577Z",
     "shell.execute_reply.started": "2021-06-25T05:03:08.004111Z"
    }
   },
   "outputs": [],
   "source": [
    "fig = go.Figure(data=go.Choropleth(\n",
    "    locations=states_df['location'],\n",
    "    z=states_df['people_vaccinated'].astype(int),\n",
    "    locationmode='USA-states',\n",
    "    colorscale=\"Reds\",\n",
    "    colorbar_title=\"Total People Vaccinated\",\n",
    "    text='Fully Vaccinated: ' + states_df['people_fully_vaccinated'].astype(int).apply('{:,}'.format) + \n",
    "        '<br>Only One Dose: ' + states_df['one_dose'].astype(int).apply('{:,}'.format)\n",
    "))\n",
    "\n",
    "fig.update_layout(\n",
    "    geo_scope='usa',\n",
    "    title={'text': f\"Total People Vaccinated in the United States on {today}\", 'x': 0.5,\n",
    "                         'xanchor': 'center', 'font': {'size': 16}}\n",
    ")\n",
    "\n",
    "fig.show()"
   ]
  },
  {
   "cell_type": "markdown",
   "metadata": {},
   "source": [
    "<h3> Figure 3: Percentage of People Vaccinated by State </h3>\n",
    "\n",
    "Visualization of the percentage of people vaccinated by state. Also includes data on the percentage of people fully vaccinated and the percentage of people with only one dose by state (calculated as the percentage of people vaccinated minus the percentage of people fully vaccinated)."
   ]
  },
  {
   "cell_type": "code",
   "execution_count": null,
   "metadata": {
    "_kg_hide-input": true,
    "execution": {
     "iopub.execute_input": "2021-06-25T05:04:07.183726Z",
     "iopub.status.busy": "2021-06-25T05:04:07.183131Z",
     "iopub.status.idle": "2021-06-25T05:04:07.211299Z",
     "shell.execute_reply": "2021-06-25T05:04:07.210136Z",
     "shell.execute_reply.started": "2021-06-25T05:04:07.183676Z"
    }
   },
   "outputs": [],
   "source": [
    "fig = go.Figure(data=go.Choropleth(\n",
    "    locations=states_df['location'],\n",
    "    z=states_df['people_vaccinated_per_hundred'].astype(float),\n",
    "    locationmode='USA-states',\n",
    "    colorscale=\"Reds\",\n",
    "    colorbar_title=\"Percentage Vaccinated\",\n",
    "    text='Fully Vaccinated Percentage: ' + states_df['people_fully_vaccinated_per_hundred'].apply('{:,}'.format) + '%' + \n",
    "        '<br>Only One Dose Percentage: ' + states_df['one_dose_per_hundred'].apply('{:,}'.format) + '%'\n",
    "))\n",
    "\n",
    "fig.update_layout(\n",
    "    geo_scope='usa',\n",
    "    title={'text': f\"Percentage of People Vaccinated by State in the United States on {today}\", 'x': 0.5,\n",
    "                         'xanchor': 'center', 'font': {'size': 16}}\n",
    ")\n",
    "\n",
    "fig.show()"
   ]
  },
  {
   "cell_type": "markdown",
   "metadata": {},
   "source": [
    "<h3> Figure 4. Daily Vaccinations in the United States </h3>\n",
    "\n",
    "Visualization of the rate vaccines are being given in the United States at this time."
   ]
  },
  {
   "cell_type": "code",
   "execution_count": null,
   "metadata": {
    "_kg_hide-input": true,
    "execution": {
     "iopub.execute_input": "2021-06-25T05:04:16.259996Z",
     "iopub.status.busy": "2021-06-25T05:04:16.259387Z",
     "iopub.status.idle": "2021-06-25T05:04:16.285623Z",
     "shell.execute_reply": "2021-06-25T05:04:16.284683Z",
     "shell.execute_reply.started": "2021-06-25T05:04:16.259945Z"
    }
   },
   "outputs": [],
   "source": [
    "fig = go.Figure(data=go.Choropleth(\n",
    "    locations=states_df['location'],\n",
    "    z=states_df['daily_vaccinations_per_million'].astype(float),\n",
    "    locationmode='USA-states',\n",
    "    colorscale=\"Reds\",\n",
    "    colorbar_title=\"Per Million\",\n",
    "    text='Total Daily Vaccinations: ' + states_df['daily_vaccinations'].astype(int).apply('{:,}'.format) \n",
    "))\n",
    "\n",
    "fig.update_layout(\n",
    "    geo_scope='usa',\n",
    "    title={'text': f\"Daily Vaccinations Per Million in the United States on {today}\", 'x': 0.5,\n",
    "                         'xanchor': 'center', 'font': {'size': 16}}\n",
    ")\n",
    "\n",
    "fig.show()"
   ]
  },
  {
   "cell_type": "markdown",
   "metadata": {},
   "source": [
    "<h3> Fig 5. Days Left Until Everyone is Fully Vaccinated in the United States </h3>\n",
    "\n",
    "Visualization of how many days are left until everyone is fully vaccinated. Also includes data on how many total vaccinations are needed and the population of the state."
   ]
  },
  {
   "cell_type": "code",
   "execution_count": null,
   "metadata": {
    "_kg_hide-input": true,
    "execution": {
     "iopub.execute_input": "2021-06-25T05:03:08.10132Z",
     "iopub.status.busy": "2021-06-25T05:03:08.10093Z",
     "iopub.status.idle": "2021-06-25T05:03:08.130102Z",
     "shell.execute_reply": "2021-06-25T05:03:08.128942Z",
     "shell.execute_reply.started": "2021-06-25T05:03:08.101284Z"
    }
   },
   "outputs": [],
   "source": [
    "fig = go.Figure(data=go.Choropleth(\n",
    "    locations=states_df['location'],\n",
    "    z=states_df['days_until_done'].astype(float),\n",
    "    locationmode='USA-states',\n",
    "    colorscale=\"Reds\",\n",
    "    colorbar_title=\"Days Left\",\n",
    "    text='Total Vaccinations Needed: ' + states_df['how_many_more_vaccines'].astype(int).apply('{:,}'.format) +\n",
    "    '<br>Population: ' + states_df['population'].astype(int).apply('{:,}'.format)\n",
    "))\n",
    "\n",
    "fig.update_layout(\n",
    "    geo_scope='usa',\n",
    "    title={'text': f\"Days Left Until Fully Vaccinated in the United States on {today}\", 'x': 0.5,\n",
    "                         'xanchor': 'center', 'font': {'size': 16}}\n",
    ")\n",
    "\n",
    "fig.show()"
   ]
  },
  {
   "cell_type": "markdown",
   "metadata": {},
   "source": [
    "<h3> Figure 6. Progress by State </h3>\n",
    "\n",
    "Same visualizations as above except you can look at the progress/trend each state has been making. Default is to look 30 days back. Change ```days_prev``` in the ```state_visualization``` function to look a different number of days back."
   ]
  },
  {
   "cell_type": "code",
   "execution_count": null,
   "metadata": {
    "_kg_hide-input": true,
    "execution": {
     "iopub.execute_input": "2021-06-25T05:03:08.132065Z",
     "iopub.status.busy": "2021-06-25T05:03:08.131624Z",
     "iopub.status.idle": "2021-06-25T05:03:08.145233Z",
     "shell.execute_reply": "2021-06-25T05:03:08.14428Z",
     "shell.execute_reply.started": "2021-06-25T05:03:08.132022Z"
    }
   },
   "outputs": [],
   "source": [
    "def state_visualization(var, title, yaxis = 'Percentage', days_prev = 30):\n",
    "    c = 0\n",
    "    buttons_list = []\n",
    "    base_list = [False for i in range(len(states_df))]\n",
    "    for i in states_df.index:\n",
    "        tmp_list = base_list.copy()\n",
    "        tmp_list[c] = True\n",
    "        buttons_list.append(dict(\n",
    "            args=[{\"visible\": tmp_list}],\n",
    "            label=states_df.loc[i]['location'],\n",
    "            method=\"update\"\n",
    "        ))\n",
    "        c += 1\n",
    "\n",
    "    c = 0\n",
    "    fig = go.Figure()\n",
    "    for i in states_df.index:\n",
    "        location_name = states_df.loc[i]['location']\n",
    "        prev_df = original_states_df.loc[original_states_df['location'] == location_name][-days_prev:]\n",
    "        fig.add_trace(go.Scatter(name=location_name, x=prev_df[\"date\"], y=prev_df[var], visible=False if c != 0 else True))\n",
    "        c += 1\n",
    "\n",
    "    fig.update_layout(\n",
    "        updatemenus=[\n",
    "            dict(\n",
    "                buttons=buttons_list,\n",
    "                direction=\"down\",\n",
    "                pad={\"r\": 10, \"t\": 10},\n",
    "                showactive=True,\n",
    "                x=0.1,\n",
    "                xanchor=\"left\",\n",
    "                y=1.1,\n",
    "                yanchor=\"top\"\n",
    "            ),\n",
    "        ]\n",
    "    )\n",
    "\n",
    "    fig.update_layout(title={'text': f'{title} - State, Past {days_prev} Days', 'x': 0.5,\n",
    "                         'xanchor': 'center', 'font': {'size': 20}}, showlegend=False, yaxis_title=f\"{yaxis}\")\n",
    "    fig.show()"
   ]
  },
  {
   "cell_type": "code",
   "execution_count": null,
   "metadata": {
    "_kg_hide-input": true,
    "execution": {
     "iopub.execute_input": "2021-06-25T05:03:08.147035Z",
     "iopub.status.busy": "2021-06-25T05:03:08.146457Z",
     "iopub.status.idle": "2021-06-25T05:03:08.400111Z",
     "shell.execute_reply": "2021-06-25T05:03:08.399105Z",
     "shell.execute_reply.started": "2021-06-25T05:03:08.146993Z"
    }
   },
   "outputs": [],
   "source": [
    "state_visualization('people_vaccinated_per_hundred', 'Percentage of People Vaccinated')"
   ]
  },
  {
   "cell_type": "code",
   "execution_count": null,
   "metadata": {
    "_kg_hide-input": true,
    "execution": {
     "iopub.execute_input": "2021-06-25T05:03:08.402069Z",
     "iopub.status.busy": "2021-06-25T05:03:08.401515Z",
     "iopub.status.idle": "2021-06-25T05:03:08.636527Z",
     "shell.execute_reply": "2021-06-25T05:03:08.635799Z",
     "shell.execute_reply.started": "2021-06-25T05:03:08.402026Z"
    }
   },
   "outputs": [],
   "source": [
    "state_visualization('people_fully_vaccinated_per_hundred', 'Percentage of People Fully Vaccinated')"
   ]
  },
  {
   "cell_type": "code",
   "execution_count": null,
   "metadata": {
    "_kg_hide-input": true,
    "execution": {
     "iopub.execute_input": "2021-06-25T05:03:08.637883Z",
     "iopub.status.busy": "2021-06-25T05:03:08.637576Z",
     "iopub.status.idle": "2021-06-25T05:03:08.871112Z",
     "shell.execute_reply": "2021-06-25T05:03:08.870016Z",
     "shell.execute_reply.started": "2021-06-25T05:03:08.637854Z"
    }
   },
   "outputs": [],
   "source": [
    "state_visualization('daily_vaccinations', 'Number of Daily Vaccinations', yaxis=\"Per Million\")"
   ]
  },
  {
   "cell_type": "code",
   "execution_count": null,
   "metadata": {
    "_kg_hide-input": true,
    "execution": {
     "iopub.execute_input": "2021-06-25T05:03:08.873055Z",
     "iopub.status.busy": "2021-06-25T05:03:08.872651Z",
     "iopub.status.idle": "2021-06-25T05:03:09.104986Z",
     "shell.execute_reply": "2021-06-25T05:03:09.104218Z",
     "shell.execute_reply.started": "2021-06-25T05:03:08.873015Z"
    }
   },
   "outputs": [],
   "source": [
    "state_visualization('how_many_more_vaccines', 'How Many More Vaccines are Needed?', yaxis=\"Total Vaccines\")"
   ]
  },
  {
   "cell_type": "code",
   "execution_count": null,
   "metadata": {
    "_kg_hide-input": true,
    "execution": {
     "iopub.execute_input": "2021-06-25T05:03:09.106399Z",
     "iopub.status.busy": "2021-06-25T05:03:09.106011Z",
     "iopub.status.idle": "2021-06-25T05:03:09.348477Z",
     "shell.execute_reply": "2021-06-25T05:03:09.347829Z",
     "shell.execute_reply.started": "2021-06-25T05:03:09.106369Z"
    }
   },
   "outputs": [],
   "source": [
    "state_visualization('days_until_done', 'Days Left Until Fully Vaccinated', yaxis=\"Days Left\")"
   ]
  },
  {
   "cell_type": "markdown",
   "metadata": {},
   "source": [
    "# Countries Vaccination Progress"
   ]
  },
  {
   "cell_type": "code",
   "execution_count": null,
   "metadata": {
    "_kg_hide-input": true,
    "execution": {
     "iopub.execute_input": "2021-06-25T05:03:09.349912Z",
     "iopub.status.busy": "2021-06-25T05:03:09.349507Z",
     "iopub.status.idle": "2021-06-25T05:03:09.375734Z",
     "shell.execute_reply": "2021-06-25T05:03:09.374962Z",
     "shell.execute_reply.started": "2021-06-25T05:03:09.349883Z"
    }
   },
   "outputs": [],
   "source": [
    "country_abbrev = {\n",
    "'Afghanistan': 'AFG',\n",
    " 'Albania': 'ALB',\n",
    " 'Algeria': 'DZA',\n",
    " 'American Samoa': 'ASM',\n",
    " 'Andorra': 'AND',\n",
    " 'Angola': 'AGO',\n",
    " 'Anguilla': 'AIA',\n",
    " 'Antigua and Barbuda': 'ATG',\n",
    " 'Argentina': 'ARG',\n",
    " 'Armenia': 'ARM',\n",
    " 'Aruba': 'ABW',\n",
    " 'Australia': 'AUS',\n",
    " 'Austria': 'AUT',\n",
    " 'Azerbaijan': 'AZE',\n",
    " 'Bahamas, The': 'BHM',\n",
    " 'Bahrain': 'BHR',\n",
    " 'Bangladesh': 'BGD',\n",
    " 'Barbados': 'BRB',\n",
    " 'Belarus': 'BLR',\n",
    " 'Belgium': 'BEL',\n",
    " 'Belize': 'BLZ',\n",
    " 'Benin': 'BEN',\n",
    " 'Bermuda': 'BMU',\n",
    " 'Bhutan': 'BTN',\n",
    " 'Bolivia': 'BOL',\n",
    " 'Bosnia and Herzegovina': 'BIH',\n",
    " 'Botswana': 'BWA',\n",
    " 'Brazil': 'BRA',\n",
    " 'British Virgin Islands': 'VGB',\n",
    " 'Brunei': 'BRN',\n",
    " 'Bulgaria': 'BGR',\n",
    " 'Burkina Faso': 'BFA',\n",
    " 'Burma': 'MMR',\n",
    " 'Burundi': 'BDI',\n",
    " 'Cabo Verde': 'CPV',\n",
    " 'Cambodia': 'KHM',\n",
    " 'Cameroon': 'CMR',\n",
    " 'Canada': 'CAN',\n",
    " 'Cayman Islands': 'CYM',\n",
    " 'Central African Republic': 'CAF',\n",
    " 'Chad': 'TCD',\n",
    " 'Chile': 'CHL',\n",
    " 'China': 'CHN',\n",
    " 'Colombia': 'COL',\n",
    " 'Comoros': 'COM',\n",
    " 'Congo, Democratic Republic of the': 'COD',\n",
    " 'Congo, Republic of the': 'COG',\n",
    " 'Cook Islands': 'COK',\n",
    " 'Costa Rica': 'CRI',\n",
    " \"Cote d'Ivoire\": 'CIV',\n",
    " 'Croatia': 'HRV',\n",
    " 'Cuba': 'CUB',\n",
    " 'Curacao': 'CUW',\n",
    " 'Cyprus': 'CYP',\n",
    " 'Czech Republic': 'CZE',\n",
    " 'Denmark': 'DNK',\n",
    " 'Djibouti': 'DJI',\n",
    " 'Dominica': 'DMA',\n",
    " 'Dominican Republic': 'DOM',\n",
    " 'Ecuador': 'ECU',\n",
    " 'Egypt': 'EGY',\n",
    " 'El Salvador': 'SLV',\n",
    " 'Equatorial Guinea': 'GNQ',\n",
    " 'Eritrea': 'ERI',\n",
    " 'Estonia': 'EST',\n",
    " 'Ethiopia': 'ETH',\n",
    " 'Falkland Islands (Islas Malvinas)': 'FLK',\n",
    " 'Faroe Islands': 'FRO',\n",
    " 'Fiji': 'FJI',\n",
    " 'Finland': 'FIN',\n",
    " 'France': 'FRA',\n",
    " 'French Polynesia': 'PYF',\n",
    " 'Gabon': 'GAB',\n",
    " 'Gambia, The': 'GMB',\n",
    " 'Georgia': 'GEO',\n",
    " 'Germany': 'DEU',\n",
    " 'Ghana': 'GHA',\n",
    " 'Gibraltar': 'GIB',\n",
    " 'Greece': 'GRC',\n",
    " 'Greenland': 'GRL',\n",
    " 'Grenada': 'GRD',\n",
    " 'Guam': 'GUM',\n",
    " 'Guatemala': 'GTM',\n",
    " 'Guernsey': 'GGY',\n",
    " 'Guinea-Bissau': 'GNB',\n",
    " 'Guinea': 'GIN',\n",
    " 'Guyana': 'GUY',\n",
    " 'Haiti': 'HTI',\n",
    " 'Honduras': 'HND',\n",
    " 'Hong Kong': 'HKG',\n",
    " 'Hungary': 'HUN',\n",
    " 'Iceland': 'ISL',\n",
    " 'India': 'IND',\n",
    " 'Indonesia': 'IDN',\n",
    " 'Iran': 'IRN',\n",
    " 'Iraq': 'IRQ',\n",
    " 'Ireland': 'IRL',\n",
    " 'Isle of Man': 'IMN',\n",
    " 'Israel': 'ISR',\n",
    " 'Italy': 'ITA',\n",
    " 'Jamaica': 'JAM',\n",
    " 'Japan': 'JPN',\n",
    " 'Jersey': 'JEY',\n",
    " 'Jordan': 'JOR',\n",
    " 'Kazakhstan': 'KAZ',\n",
    " 'Kenya': 'KEN',\n",
    " 'Kiribati': 'KIR',\n",
    " 'Korea, North': 'PRK',\n",
    " 'Korea, South': 'KOR',\n",
    " 'Kosovo': 'KSV',\n",
    " 'Kuwait': 'KWT',\n",
    " 'Kyrgyzstan': 'KGZ',\n",
    " 'Laos': 'LAO',\n",
    " 'Latvia': 'LVA',\n",
    " 'Lebanon': 'LBN',\n",
    " 'Lesotho': 'LSO',\n",
    " 'Liberia': 'LBR',\n",
    " 'Libya': 'LBY',\n",
    " 'Liechtenstein': 'LIE',\n",
    " 'Lithuania': 'LTU',\n",
    " 'Luxembourg': 'LUX',\n",
    " 'Macau': 'MAC',\n",
    " 'Macedonia': 'MKD',\n",
    " 'Madagascar': 'MDG',\n",
    " 'Malawi': 'MWI',\n",
    " 'Malaysia': 'MYS',\n",
    " 'Maldives': 'MDV',\n",
    " 'Mali': 'MLI',\n",
    " 'Malta': 'MLT',\n",
    " 'Marshall Islands': 'MHL',\n",
    " 'Mauritania': 'MRT',\n",
    " 'Mauritius': 'MUS',\n",
    " 'Mexico': 'MEX',\n",
    " 'Micronesia, Federated States of': 'FSM',\n",
    " 'Moldova': 'MDA',\n",
    " 'Monaco': 'MCO',\n",
    " 'Mongolia': 'MNG',\n",
    " 'Montenegro': 'MNE',\n",
    " 'Morocco': 'MAR',\n",
    " 'Mozambique': 'MOZ',\n",
    " 'Namibia': 'NAM',\n",
    " 'Nepal': 'NPL',\n",
    " 'Netherlands': 'NLD',\n",
    " 'New Caledonia': 'NCL',\n",
    " 'New Zealand': 'NZL',\n",
    " 'Nicaragua': 'NIC',\n",
    " 'Nigeria': 'NGA',\n",
    " 'Niger': 'NER',\n",
    " 'Niue': 'NIU',\n",
    " 'Northern Mariana Islands': 'MNP',\n",
    " 'Norway': 'NOR',\n",
    " 'Oman': 'OMN',\n",
    " 'Pakistan': 'PAK',\n",
    " 'Palau': 'PLW',\n",
    " 'Panama': 'PAN',\n",
    " 'Papua New Guinea': 'PNG',\n",
    " 'Paraguay': 'PRY',\n",
    " 'Peru': 'PER',\n",
    " 'Philippines': 'PHL',\n",
    " 'Poland': 'POL',\n",
    " 'Portugal': 'PRT',\n",
    " 'Puerto Rico': 'PRI',\n",
    " 'Qatar': 'QAT',\n",
    " 'Romania': 'ROU',\n",
    " 'Russia': 'RUS',\n",
    " 'Rwanda': 'RWA',\n",
    " 'Saint Kitts and Nevis': 'KNA',\n",
    " 'Saint Lucia': 'LCA',\n",
    " 'Saint Martin': 'MAF',\n",
    " 'Saint Pierre and Miquelon': 'SPM',\n",
    " 'Saint Vincent and the Grenadines': 'VCT',\n",
    " 'Samoa': 'WSM',\n",
    " 'San Marino': 'SMR',\n",
    " 'Sao Tome and Principe': 'STP',\n",
    " 'Saudi Arabia': 'SAU',\n",
    " 'Senegal': 'SEN',\n",
    " 'Serbia': 'SRB',\n",
    " 'Seychelles': 'SYC',\n",
    " 'Sierra Leone': 'SLE',\n",
    " 'Singapore': 'SGP',\n",
    " 'Sint Maarten': 'SXM',\n",
    " 'Slovakia': 'SVK',\n",
    " 'Slovenia': 'SVN',\n",
    " 'Solomon Islands': 'SLB',\n",
    " 'Somalia': 'SOM',\n",
    " 'South Africa': 'ZAF',\n",
    " 'South Sudan': 'SSD',\n",
    " 'Spain': 'ESP',\n",
    " 'Sri Lanka': 'LKA',\n",
    " 'Sudan': 'SDN',\n",
    " 'Suriname': 'SUR',\n",
    " 'Swaziland': 'SWZ',\n",
    " 'Sweden': 'SWE',\n",
    " 'Switzerland': 'CHE',\n",
    " 'Syria': 'SYR',\n",
    " 'Taiwan': 'TWN',\n",
    " 'Tajikistan': 'TJK',\n",
    " 'Tanzania': 'TZA',\n",
    " 'Thailand': 'THA',\n",
    " 'Timor-Leste': 'TLS',\n",
    " 'Togo': 'TGO',\n",
    " 'Tonga': 'TON',\n",
    " 'Trinidad and Tobago': 'TTO',\n",
    " 'Tunisia': 'TUN',\n",
    " 'Turkey': 'TUR',\n",
    " 'Turkmenistan': 'TKM',\n",
    " 'Tuvalu': 'TUV',\n",
    " 'Uganda': 'UGA',\n",
    " 'Ukraine': 'UKR',\n",
    " 'United Arab Emirates': 'ARE',\n",
    " 'United Kingdom': 'GBR',\n",
    " 'United States': 'USA',\n",
    " 'Uruguay': 'URY',\n",
    " 'Uzbekistan': 'UZB',\n",
    " 'Vanuatu': 'VUT',\n",
    " 'Venezuela': 'VEN',\n",
    " 'Vietnam': 'VNM',\n",
    " 'Virgin Islands': 'VGB',\n",
    " 'West Bank': 'WBG',\n",
    " 'Yemen': 'YEM',\n",
    " 'Zambia': 'ZMB',\n",
    " 'Zimbabwe': 'ZWE'\n",
    "}"
   ]
  },
  {
   "cell_type": "markdown",
   "metadata": {},
   "source": [
    "Initialize the data:"
   ]
  },
  {
   "cell_type": "code",
   "execution_count": null,
   "metadata": {
    "execution": {
     "iopub.execute_input": "2021-06-25T05:03:09.377139Z",
     "iopub.status.busy": "2021-06-25T05:03:09.376728Z",
     "iopub.status.idle": "2021-06-25T05:03:11.655478Z",
     "shell.execute_reply": "2021-06-25T05:03:11.654463Z",
     "shell.execute_reply.started": "2021-06-25T05:03:09.377108Z"
    }
   },
   "outputs": [],
   "source": [
    "days_ago = (now - timedelta(days=7)).strftime(\"%Y-%m-%d\")\n",
    "original_country_df = pd.read_csv(\"https://raw.githubusercontent.com/owid/covid-19-data/master/public/data/vaccinations/vaccinations.csv\")\n",
    "original_country_df = original_country_df.loc[~original_country_df['iso_code'].str.contains('OWID')]\n",
    "original_country_df.reset_index(drop=True, inplace=True)\n",
    "original_country_df.reset_index(inplace=True)\n",
    "for loc in original_country_df['location'].unique():\n",
    "    loc_ser = original_country_df.loc[original_country_df['location'] == loc].iloc[0]\n",
    "    index = loc_ser['index']\n",
    "    original_country_df.loc[index] = loc_ser.fillna(0)\n",
    "\n",
    "original_country_df.fillna(method=\"ffill\", inplace=True)\n",
    "original_country_df.fillna(0, inplace=True)"
   ]
  },
  {
   "cell_type": "markdown",
   "metadata": {},
   "source": [
    "Add variables:"
   ]
  },
  {
   "cell_type": "code",
   "execution_count": null,
   "metadata": {
    "execution": {
     "iopub.execute_input": "2021-06-25T05:03:11.657067Z",
     "iopub.status.busy": "2021-06-25T05:03:11.656766Z",
     "iopub.status.idle": "2021-06-25T05:03:11.694583Z",
     "shell.execute_reply": "2021-06-25T05:03:11.693634Z",
     "shell.execute_reply.started": "2021-06-25T05:03:11.657038Z"
    }
   },
   "outputs": [],
   "source": [
    "original_country_df['one_dose'] = original_country_df['people_vaccinated'] - original_country_df['people_fully_vaccinated']\n",
    "original_country_df['one_dose_per_hundred'] = (original_country_df['people_vaccinated_per_hundred'] - original_country_df['people_fully_vaccinated_per_hundred']).round(2)\n",
    "original_country_df['population'] = (original_country_df['people_fully_vaccinated']/original_country_df['people_fully_vaccinated_per_hundred'].replace(0, 1)*100).astype(int)\n",
    "original_country_df['how_many_more_vaccines'] = (2*(original_country_df['population'] - original_country_df['people_vaccinated']) + original_country_df['one_dose']).astype(int)\n",
    "original_country_df['days_until_done'] = (original_country_df['how_many_more_vaccines']/original_country_df['daily_vaccinations'].replace(0, 1)).round(2)\n",
    "original_country_df.head()"
   ]
  },
  {
   "cell_type": "markdown",
   "metadata": {},
   "source": [
    "Sort the DataFrame first by priority countries, then by total vaccinations:"
   ]
  },
  {
   "cell_type": "code",
   "execution_count": null,
   "metadata": {
    "execution": {
     "iopub.execute_input": "2021-06-25T05:03:11.696201Z",
     "iopub.status.busy": "2021-06-25T05:03:11.695916Z",
     "iopub.status.idle": "2021-06-25T05:03:11.755999Z",
     "shell.execute_reply": "2021-06-25T05:03:11.754904Z",
     "shell.execute_reply.started": "2021-06-25T05:03:11.696173Z"
    }
   },
   "outputs": [],
   "source": [
    "priority_list = [\"United States\", \"Russia\", \"India\", \"China\", \"France\", \"United Kingdom\", \"Germany\",\n",
    "                \"Japan\", \"Canada\", \"Australia\"]\n",
    "\n",
    "country_df = original_country_df.loc[original_country_df['date'] == days_ago]\n",
    "country_df.sort_values(\"total_vaccinations\", ascending=False, inplace=True)\n",
    "\n",
    "priority_ser_list = []\n",
    "for country in priority_list:\n",
    "    priority_ser_list.append(country_df.loc[country_df['location'] == country].iloc[0])\n",
    "\n",
    "priority_df = pd.DataFrame(priority_ser_list)\n",
    "not_priority_df = country_df.loc[~country_df['location'].isin(priority_list)]\n",
    "\n",
    "country_df = priority_df.append(not_priority_df)\n",
    "country_df.head()"
   ]
  },
  {
   "cell_type": "markdown",
   "metadata": {},
   "source": [
    "Note, some countries do not have data:"
   ]
  },
  {
   "cell_type": "code",
   "execution_count": null,
   "metadata": {
    "_kg_hide-input": true,
    "execution": {
     "iopub.execute_input": "2021-06-25T05:03:11.758145Z",
     "iopub.status.busy": "2021-06-25T05:03:11.757688Z",
     "iopub.status.idle": "2021-06-25T05:03:11.786797Z",
     "shell.execute_reply": "2021-06-25T05:03:11.785858Z",
     "shell.execute_reply.started": "2021-06-25T05:03:11.758098Z"
    }
   },
   "outputs": [],
   "source": [
    "not_included_list = []\n",
    "for name in country_abbrev:\n",
    "    code = country_abbrev[name]\n",
    "    if code not in country_df['iso_code'].unique():\n",
    "        not_included_list.append(name)\n",
    "        \n",
    "print(f\"Countries without data: {not_included_list}\")"
   ]
  },
  {
   "cell_type": "markdown",
   "metadata": {},
   "source": [
    "<h3> Figure 1: Total Vaccinations Given in the World </h3>\n",
    "\n",
    "Visualization of raw numbers for vaccinations given in the world. "
   ]
  },
  {
   "cell_type": "code",
   "execution_count": null,
   "metadata": {
    "execution": {
     "iopub.execute_input": "2021-06-25T05:03:11.790298Z",
     "iopub.status.busy": "2021-06-25T05:03:11.790007Z",
     "iopub.status.idle": "2021-06-25T05:03:11.818964Z",
     "shell.execute_reply": "2021-06-25T05:03:11.817907Z",
     "shell.execute_reply.started": "2021-06-25T05:03:11.790269Z"
    }
   },
   "outputs": [],
   "source": [
    "fig = go.Figure(data=go.Choropleth(\n",
    "    locations=country_df['iso_code'],\n",
    "    z=country_df['total_vaccinations'].astype(int),\n",
    "    colorscale=\"Reds\",\n",
    "    colorbar_title=\"Total Vaccinations Given\"\n",
    "))\n",
    "\n",
    "fig.update_layout(\n",
    "    geo=dict(\n",
    "        showframe=False,\n",
    "        showcoastlines=False,\n",
    "        projection_type='equirectangular'\n",
    "    ),\n",
    "    title={'text': f\"Total Vaccinations Given in the World on {today}\", 'x': 0.5,\n",
    "                         'xanchor': 'center', 'font': {'size': 16}}\n",
    ")\n",
    "\n",
    "fig.show()"
   ]
  },
  {
   "cell_type": "markdown",
   "metadata": {},
   "source": [
    "<h3> Figure 2: Total People Vaccinated in the World </h3>\n",
    "\n",
    "Visualization of the total number of people vaccinated in the world. Also includes data on people fully vaccinated and people who only have one dose of a vaccine (calculated as people vaccinated minus people fully vaccinated)."
   ]
  },
  {
   "cell_type": "code",
   "execution_count": null,
   "metadata": {
    "execution": {
     "iopub.execute_input": "2021-06-25T05:03:11.821488Z",
     "iopub.status.busy": "2021-06-25T05:03:11.821087Z",
     "iopub.status.idle": "2021-06-25T05:03:11.856465Z",
     "shell.execute_reply": "2021-06-25T05:03:11.855288Z",
     "shell.execute_reply.started": "2021-06-25T05:03:11.821444Z"
    }
   },
   "outputs": [],
   "source": [
    "fig = go.Figure(data=go.Choropleth(\n",
    "    locations=country_df['iso_code'],\n",
    "    z=country_df['people_vaccinated'].astype(int),\n",
    "    colorscale=\"Reds\",\n",
    "    colorbar_title=\"Total People Vaccinated\",\n",
    "    text='Fully Vaccinated: ' + country_df['people_fully_vaccinated'].astype(int).apply('{:,}'.format) + \n",
    "        '<br>Only One Dose: ' + country_df['one_dose'].astype(int).apply('{:,}'.format)\n",
    "))\n",
    "\n",
    "fig.update_layout(\n",
    "    geo=dict(\n",
    "        showframe=False,\n",
    "        showcoastlines=False,\n",
    "        projection_type='equirectangular'\n",
    "    ),\n",
    "    title={'text': f\"Total People Vaccinated in the World on {today}\", 'x': 0.5,\n",
    "                         'xanchor': 'center', 'font': {'size': 16}}\n",
    ")\n",
    "\n",
    "fig.show()"
   ]
  },
  {
   "cell_type": "markdown",
   "metadata": {},
   "source": [
    "<h3> Figure 3: Percentage of People Vaccinated by Country </h3>\n",
    "\n",
    "Visualization of the percentage of people vaccinated by country. Also includes data on the percentage of people fully vaccinated and the percentage of people with only one dose by country (calculated as the percentage of people vaccinated minus the percentage of people fully vaccinated)."
   ]
  },
  {
   "cell_type": "code",
   "execution_count": null,
   "metadata": {
    "execution": {
     "iopub.execute_input": "2021-06-25T05:03:11.858292Z",
     "iopub.status.busy": "2021-06-25T05:03:11.858008Z",
     "iopub.status.idle": "2021-06-25T05:03:11.889213Z",
     "shell.execute_reply": "2021-06-25T05:03:11.888207Z",
     "shell.execute_reply.started": "2021-06-25T05:03:11.858264Z"
    }
   },
   "outputs": [],
   "source": [
    "fig = go.Figure(data=go.Choropleth(\n",
    "    locations=country_df['iso_code'],\n",
    "    z=country_df['people_vaccinated_per_hundred'].astype(float),\n",
    "    colorscale=\"Reds\",\n",
    "    colorbar_title=\"Percentage Vaccinated\",\n",
    "    text='Fully Vaccinated Percentage: ' + country_df['people_fully_vaccinated_per_hundred'].apply('{:,}'.format) + '%' + \n",
    "        '<br>Only One Dose Percentage: ' + country_df['one_dose_per_hundred'].apply('{:,}'.format) + '%'\n",
    "))\n",
    "\n",
    "fig.update_layout(\n",
    "    geo=dict(\n",
    "        showframe=False,\n",
    "        showcoastlines=False,\n",
    "        projection_type='equirectangular'\n",
    "    ),\n",
    "    title={'text': f\"Percentage of People Vaccinated by Country in the World on {today}\", 'x': 0.5,\n",
    "                         'xanchor': 'center', 'font': {'size': 16}}\n",
    ")\n",
    "\n",
    "fig.show()"
   ]
  },
  {
   "cell_type": "markdown",
   "metadata": {},
   "source": [
    "<h3> Figure 3.5: Percentage of People Fully Vaccinated by Country </h3>"
   ]
  },
  {
   "cell_type": "code",
   "execution_count": null,
   "metadata": {
    "execution": {
     "iopub.execute_input": "2021-06-25T05:06:20.225376Z",
     "iopub.status.busy": "2021-06-25T05:06:20.224733Z",
     "iopub.status.idle": "2021-06-25T05:06:20.254054Z",
     "shell.execute_reply": "2021-06-25T05:06:20.253062Z",
     "shell.execute_reply.started": "2021-06-25T05:06:20.22534Z"
    }
   },
   "outputs": [],
   "source": [
    "fig = go.Figure(data=go.Choropleth(\n",
    "    locations=country_df['iso_code'],\n",
    "    z=country_df['people_fully_vaccinated_per_hundred'].astype(float),\n",
    "    colorscale=\"Reds\",\n",
    "    colorbar_title=\"Percentage Fully Vaccinated\",\n",
    "    text='Vaccinated Percentage: ' + country_df['people_vaccinated_per_hundred'].apply('{:,}'.format) + '%' + \n",
    "        '<br>Only One Dose Percentage: ' + country_df['one_dose_per_hundred'].apply('{:,}'.format) + '%'\n",
    "))\n",
    "\n",
    "fig.update_layout(\n",
    "    geo=dict(\n",
    "        showframe=False,\n",
    "        showcoastlines=False,\n",
    "        projection_type='equirectangular'\n",
    "    ),\n",
    "    title={'text': f\"Percentage of People Fully Vaccinated by Country in the World on {today}\", 'x': 0.5,\n",
    "                         'xanchor': 'center', 'font': {'size': 16}}\n",
    ")\n",
    "\n",
    "fig.show()"
   ]
  },
  {
   "cell_type": "markdown",
   "metadata": {},
   "source": [
    "<h3> Figure 4. Daily Vaccinations in the World </h3>\n",
    "\n",
    "Visualization of the rate vaccines are being given in the world at this time."
   ]
  },
  {
   "cell_type": "code",
   "execution_count": null,
   "metadata": {
    "execution": {
     "iopub.execute_input": "2021-06-25T05:03:11.891312Z",
     "iopub.status.busy": "2021-06-25T05:03:11.890704Z",
     "iopub.status.idle": "2021-06-25T05:03:11.919632Z",
     "shell.execute_reply": "2021-06-25T05:03:11.918609Z",
     "shell.execute_reply.started": "2021-06-25T05:03:11.891274Z"
    }
   },
   "outputs": [],
   "source": [
    "fig = go.Figure(data=go.Choropleth(\n",
    "    locations=country_df['iso_code'],\n",
    "    z=country_df['daily_vaccinations_per_million'].astype(float),\n",
    "    colorscale=\"Reds\",\n",
    "    colorbar_title=\"Per Million\",\n",
    "    text='Total Daily Vaccinations: ' + country_df['daily_vaccinations'].astype(int).apply('{:,}'.format) \n",
    "))\n",
    "\n",
    "fig.update_layout(\n",
    "    geo=dict(\n",
    "        showframe=False,\n",
    "        showcoastlines=False,\n",
    "        projection_type='equirectangular'\n",
    "    ),\n",
    "    title={'text': f\"Daily Vaccinations Per Million in the World on {today}\", 'x': 0.5,\n",
    "                         'xanchor': 'center', 'font': {'size': 16}}\n",
    ")\n",
    "\n",
    "fig.show()"
   ]
  },
  {
   "cell_type": "markdown",
   "metadata": {},
   "source": [
    "<h3> Fig 5. Days Left Until Everyone is Fully Vaccinated in the World </h3>\n",
    "\n",
    "Visualization of how many days are left until everyone is fully vaccinated in the world. Also includes data on how many total vaccinations are needed and the population of the country."
   ]
  },
  {
   "cell_type": "code",
   "execution_count": null,
   "metadata": {
    "execution": {
     "iopub.execute_input": "2021-06-25T05:03:11.921476Z",
     "iopub.status.busy": "2021-06-25T05:03:11.921112Z",
     "iopub.status.idle": "2021-06-25T05:03:12.018069Z",
     "shell.execute_reply": "2021-06-25T05:03:12.017022Z",
     "shell.execute_reply.started": "2021-06-25T05:03:11.921441Z"
    }
   },
   "outputs": [],
   "source": [
    "fig = px.choropleth(\n",
    "    country_df,\n",
    "    locations=country_df['iso_code'],\n",
    "    color='days_until_done',\n",
    "    color_continuous_scale=\"Reds\",\n",
    "    labels={'days_until_done': 'Days Left'},\n",
    "    range_color=(0, 1000)\n",
    ")\n",
    "\n",
    "fig.update_layout(\n",
    "    geo=dict(\n",
    "        showframe=False,\n",
    "        showcoastlines=False,\n",
    "        projection_type='equirectangular'\n",
    "    ),\n",
    "    title={'text': f\"Days Left Until Fully Vaccinated in the World on {today}\", 'x': 0.5,\n",
    "                         'xanchor': 'center', 'font': {'size': 16}}\n",
    ")\n",
    "\n",
    "fig.show()"
   ]
  },
  {
   "cell_type": "markdown",
   "metadata": {},
   "source": [
    "<h3> Figure 6. Progress by Country </h3>\n",
    "\n",
    "Same visualizations as above except you can look at the progress/trend each country has been making. Default is to look 30 days back. Change ```days_prev``` in the ```country_visualization``` function to look a different number of days back."
   ]
  },
  {
   "cell_type": "code",
   "execution_count": null,
   "metadata": {
    "_kg_hide-input": true,
    "execution": {
     "iopub.execute_input": "2021-06-25T05:03:12.055924Z",
     "iopub.status.busy": "2021-06-25T05:03:12.055455Z",
     "iopub.status.idle": "2021-06-25T05:03:12.066517Z",
     "shell.execute_reply": "2021-06-25T05:03:12.065765Z",
     "shell.execute_reply.started": "2021-06-25T05:03:12.055885Z"
    }
   },
   "outputs": [],
   "source": [
    "def country_visualization(var, title, yaxis = 'Percentage', days_prev = 30):\n",
    "    c = 0\n",
    "    buttons_list = []\n",
    "    base_list = [False for i in range(len(country_df))]\n",
    "    for i in country_df.index:\n",
    "        tmp_list = base_list.copy()\n",
    "        tmp_list[c] = True\n",
    "        buttons_list.append(dict(\n",
    "            args=[{\"visible\": tmp_list}],\n",
    "            label=country_df.loc[i]['location'],\n",
    "            method=\"update\"\n",
    "        ))\n",
    "        c += 1\n",
    "\n",
    "    c = 0\n",
    "    fig = go.Figure()\n",
    "    for i in country_df.index:\n",
    "        location_name = country_df.loc[i]['location']\n",
    "        prev_df = original_country_df.loc[original_country_df['location'] == location_name][-days_prev:]\n",
    "        fig.add_trace(go.Scatter(name=location_name, x=prev_df[\"date\"], y=prev_df[var], visible=False if c != 0 else True))\n",
    "        c += 1\n",
    "\n",
    "    fig.update_layout(\n",
    "        updatemenus=[\n",
    "            dict(\n",
    "                buttons=buttons_list,\n",
    "                direction=\"down\",\n",
    "                pad={\"r\": 10, \"t\": 10},\n",
    "                showactive=True,\n",
    "                x=0.1,\n",
    "                xanchor=\"left\",\n",
    "                y=1.1,\n",
    "                yanchor=\"top\"\n",
    "            ),\n",
    "        ]\n",
    "    )\n",
    "\n",
    "    fig.update_layout(title={'text': f'{title} - World, Past {days_prev} Days', 'x': 0.5,\n",
    "                         'xanchor': 'center', 'font': {'size': 20}}, showlegend=False, yaxis_title=f\"{yaxis}\")\n",
    "    fig.show()"
   ]
  },
  {
   "cell_type": "code",
   "execution_count": null,
   "metadata": {
    "_kg_hide-input": true,
    "execution": {
     "iopub.execute_input": "2021-06-25T05:03:12.068203Z",
     "iopub.status.busy": "2021-06-25T05:03:12.067696Z",
     "iopub.status.idle": "2021-06-25T05:03:13.199643Z",
     "shell.execute_reply": "2021-06-25T05:03:13.19886Z",
     "shell.execute_reply.started": "2021-06-25T05:03:12.068157Z"
    }
   },
   "outputs": [],
   "source": [
    "country_visualization('people_vaccinated_per_hundred', 'Percentage of People Vaccinated')"
   ]
  },
  {
   "cell_type": "code",
   "execution_count": null,
   "metadata": {
    "_kg_hide-input": true,
    "execution": {
     "iopub.execute_input": "2021-06-25T05:03:13.201278Z",
     "iopub.status.busy": "2021-06-25T05:03:13.200856Z",
     "iopub.status.idle": "2021-06-25T05:03:14.304968Z",
     "shell.execute_reply": "2021-06-25T05:03:14.304045Z",
     "shell.execute_reply.started": "2021-06-25T05:03:13.201237Z"
    }
   },
   "outputs": [],
   "source": [
    "country_visualization('people_fully_vaccinated_per_hundred', 'Percentage of People Fully Vaccinated')"
   ]
  },
  {
   "cell_type": "code",
   "execution_count": null,
   "metadata": {
    "_kg_hide-input": true,
    "execution": {
     "iopub.execute_input": "2021-06-25T05:03:14.306603Z",
     "iopub.status.busy": "2021-06-25T05:03:14.306296Z",
     "iopub.status.idle": "2021-06-25T05:03:15.39161Z",
     "shell.execute_reply": "2021-06-25T05:03:15.390575Z",
     "shell.execute_reply.started": "2021-06-25T05:03:14.306572Z"
    }
   },
   "outputs": [],
   "source": [
    "country_visualization('daily_vaccinations', 'Number of Daily Vaccinations', yaxis='Per Million')"
   ]
  },
  {
   "cell_type": "code",
   "execution_count": null,
   "metadata": {
    "_kg_hide-input": true,
    "execution": {
     "iopub.execute_input": "2021-06-25T05:03:15.393126Z",
     "iopub.status.busy": "2021-06-25T05:03:15.39284Z",
     "iopub.status.idle": "2021-06-25T05:03:16.48668Z",
     "shell.execute_reply": "2021-06-25T05:03:16.48552Z",
     "shell.execute_reply.started": "2021-06-25T05:03:15.393099Z"
    }
   },
   "outputs": [],
   "source": [
    "country_visualization('how_many_more_vaccines', 'How Many More Vaccines are Needed?', yaxis=\"Total Vaccines\")"
   ]
  },
  {
   "cell_type": "code",
   "execution_count": null,
   "metadata": {
    "_kg_hide-input": true,
    "execution": {
     "iopub.execute_input": "2021-06-25T05:03:16.488721Z",
     "iopub.status.busy": "2021-06-25T05:03:16.488321Z",
     "iopub.status.idle": "2021-06-25T05:03:17.597774Z",
     "shell.execute_reply": "2021-06-25T05:03:17.596902Z",
     "shell.execute_reply.started": "2021-06-25T05:03:16.488682Z"
    }
   },
   "outputs": [],
   "source": [
    "country_visualization('days_until_done', 'Days Left Until Fully Vaccinated', yaxis=\"Days Left\")"
   ]
  },
  {
   "cell_type": "markdown",
   "metadata": {},
   "source": [
    "# Concluding Remarks"
   ]
  },
  {
   "cell_type": "markdown",
   "metadata": {},
   "source": [
    "If you've read down this far in the notebook, thank you so much. This notebook took quite a long time to make, but that's aside from the point - these visualizations are for the community, and I'd like this project to also be for the community. So please leave an <span style=\"color: green\">upvote</span> - it takes literally less than a second - so this notebook/project gains more traction & recognition.\n",
    "\n",
    "As I say in my <a href=\"https://www.kaggle.com/ironicninja/daily-covid-19-interactive-plots\">related COVID-19 notebook</a>, if you have any suggestions or code for other visualizations, please let me know in the comments or in DMs.\n",
    "\n",
    "Stay safe, stay healthy, educate yourself. Thanks!"
   ]
  }
 ],
 "metadata": {
  "kernelspec": {
   "display_name": "Python 3",
   "language": "python",
   "name": "python3"
  },
  "language_info": {
   "codemirror_mode": {
    "name": "ipython",
    "version": 3
   },
   "file_extension": ".py",
   "mimetype": "text/x-python",
   "name": "python",
   "nbconvert_exporter": "python",
   "pygments_lexer": "ipython3",
   "version": "3.8.8"
  }
 },
 "nbformat": 4,
 "nbformat_minor": 4
}